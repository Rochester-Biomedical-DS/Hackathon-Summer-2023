{
 "cells": [
  {
   "cell_type": "code",
   "execution_count": 3,
   "metadata": {},
   "outputs": [],
   "source": [
    "import numpy as np\n",
    "import pandas as pd\n",
    "import scanpy as sc\n",
    "import seaborn as sns"
   ]
  },
  {
   "cell_type": "code",
   "execution_count": 4,
   "metadata": {},
   "outputs": [
    {
     "name": "stdout",
     "output_type": "stream",
     "text": [
      "<class 'pandas.core.frame.DataFrame'>\n",
      "RangeIndex: 20954 entries, 0 to 20953\n",
      "Data columns (total 2 columns):\n",
      " #   Column   Non-Null Count  Dtype \n",
      "---  ------   --------------  ----- \n",
      " 0   UMIs     20954 non-null  object\n",
      " 1   Doublet  20954 non-null  int64 \n",
      "dtypes: int64(1), object(1)\n",
      "memory usage: 327.5+ KB\n"
     ]
    }
   ],
   "source": [
    "df_pred = pd.read_csv('../prediction/prediction.csv', header=None)\n",
    "df_pred.columns = ['UMIs', 'Doublet']\n",
    "df_pred.info()"
   ]
  },
  {
   "cell_type": "code",
   "execution_count": 5,
   "metadata": {},
   "outputs": [
    {
     "data": {
      "text/plain": [
       "Doublet\n",
       "0    18238\n",
       "1     2716\n",
       "Name: count, dtype: int64"
      ]
     },
     "execution_count": 5,
     "metadata": {},
     "output_type": "execute_result"
    }
   ],
   "source": [
    "df_pred['Doublet'].value_counts()"
   ]
  },
  {
   "cell_type": "code",
   "execution_count": 6,
   "metadata": {},
   "outputs": [
    {
     "name": "stdout",
     "output_type": "stream",
     "text": [
      "<class 'pandas.core.frame.DataFrame'>\n",
      "RangeIndex: 999 entries, 0 to 998\n",
      "Data columns (total 2 columns):\n",
      " #   Column   Non-Null Count  Dtype \n",
      "---  ------   --------------  ----- \n",
      " 0   UMIs     999 non-null    object\n",
      " 1   Doublet  999 non-null    int64 \n",
      "dtypes: int64(1), object(1)\n",
      "memory usage: 15.7+ KB\n"
     ]
    }
   ],
   "source": [
    "df_train = pd.read_csv('../train/training.csv')\n",
    "df_train.columns = ['UMIs', 'Doublet']\n",
    "df_train.info()"
   ]
  },
  {
   "cell_type": "code",
   "execution_count": 7,
   "metadata": {},
   "outputs": [
    {
     "data": {
      "text/plain": [
       "Doublet\n",
       "0    855\n",
       "1    144\n",
       "Name: count, dtype: int64"
      ]
     },
     "execution_count": 7,
     "metadata": {},
     "output_type": "execute_result"
    }
   ],
   "source": [
    "df_train['Doublet'].value_counts()"
   ]
  },
  {
   "cell_type": "code",
   "execution_count": 20,
   "metadata": {},
   "outputs": [],
   "source": [
    "doublets = df_train[df_train['Doublet']==1]['UMIs']\n",
    "singlets = df_train[df_train['Doublet']==0]['UMIs']"
   ]
  },
  {
   "cell_type": "code",
   "execution_count": 9,
   "metadata": {},
   "outputs": [
    {
     "data": {
      "text/html": [
       "<div>\n",
       "<style scoped>\n",
       "    .dataframe tbody tr th:only-of-type {\n",
       "        vertical-align: middle;\n",
       "    }\n",
       "\n",
       "    .dataframe tbody tr th {\n",
       "        vertical-align: top;\n",
       "    }\n",
       "\n",
       "    .dataframe thead th {\n",
       "        text-align: right;\n",
       "    }\n",
       "</style>\n",
       "<table border=\"1\" class=\"dataframe\">\n",
       "  <thead>\n",
       "    <tr style=\"text-align: right;\">\n",
       "      <th></th>\n",
       "      <th>cxds_score</th>\n",
       "      <th>bcds_score</th>\n",
       "      <th>hybrid_score</th>\n",
       "      <th>cxds_call</th>\n",
       "      <th>bcds_call</th>\n",
       "      <th>hybrid_call</th>\n",
       "    </tr>\n",
       "  </thead>\n",
       "  <tbody>\n",
       "    <tr>\n",
       "      <th>AGAGCGAAGATCTGCT</th>\n",
       "      <td>3.019673e+04</td>\n",
       "      <td>0.708056</td>\n",
       "      <td>1.247998</td>\n",
       "      <td>True</td>\n",
       "      <td>True</td>\n",
       "      <td>True</td>\n",
       "    </tr>\n",
       "    <tr>\n",
       "      <th>ACATCAGTCTGACCTC</th>\n",
       "      <td>2.163955e+04</td>\n",
       "      <td>0.703681</td>\n",
       "      <td>1.092262</td>\n",
       "      <td>True</td>\n",
       "      <td>True</td>\n",
       "      <td>True</td>\n",
       "    </tr>\n",
       "    <tr>\n",
       "      <th>TTCTCCTGTCCTGCTT</th>\n",
       "      <td>6.827146e+03</td>\n",
       "      <td>0.507470</td>\n",
       "      <td>0.629397</td>\n",
       "      <td>True</td>\n",
       "      <td>False</td>\n",
       "      <td>True</td>\n",
       "    </tr>\n",
       "    <tr>\n",
       "      <th>GAAACTCTCATGTAGC</th>\n",
       "      <td>1.181685e+04</td>\n",
       "      <td>0.820639</td>\n",
       "      <td>1.038479</td>\n",
       "      <td>True</td>\n",
       "      <td>True</td>\n",
       "      <td>True</td>\n",
       "    </tr>\n",
       "    <tr>\n",
       "      <th>CAGTCCTGTCTAGCCG</th>\n",
       "      <td>1.873341e+04</td>\n",
       "      <td>0.562479</td>\n",
       "      <td>0.896213</td>\n",
       "      <td>True</td>\n",
       "      <td>True</td>\n",
       "      <td>True</td>\n",
       "    </tr>\n",
       "    <tr>\n",
       "      <th>...</th>\n",
       "      <td>...</td>\n",
       "      <td>...</td>\n",
       "      <td>...</td>\n",
       "      <td>...</td>\n",
       "      <td>...</td>\n",
       "      <td>...</td>\n",
       "    </tr>\n",
       "    <tr>\n",
       "      <th>TTTATGCTCTTGTACT</th>\n",
       "      <td>6.434841e-17</td>\n",
       "      <td>0.030720</td>\n",
       "      <td>0.020226</td>\n",
       "      <td>False</td>\n",
       "      <td>False</td>\n",
       "      <td>False</td>\n",
       "    </tr>\n",
       "    <tr>\n",
       "      <th>ATAACGCCAAGCTGGA</th>\n",
       "      <td>3.115676e-23</td>\n",
       "      <td>0.030016</td>\n",
       "      <td>0.019504</td>\n",
       "      <td>False</td>\n",
       "      <td>False</td>\n",
       "      <td>False</td>\n",
       "    </tr>\n",
       "    <tr>\n",
       "      <th>ATTACTCAGTGGACGT</th>\n",
       "      <td>1.707922e-31</td>\n",
       "      <td>0.019958</td>\n",
       "      <td>0.009199</td>\n",
       "      <td>False</td>\n",
       "      <td>False</td>\n",
       "      <td>False</td>\n",
       "    </tr>\n",
       "    <tr>\n",
       "      <th>CGTGTCTCAAGCGTAG</th>\n",
       "      <td>2.550374e-28</td>\n",
       "      <td>0.044342</td>\n",
       "      <td>0.034183</td>\n",
       "      <td>False</td>\n",
       "      <td>False</td>\n",
       "      <td>False</td>\n",
       "    </tr>\n",
       "    <tr>\n",
       "      <th>CCGGGATCAATCGGTT</th>\n",
       "      <td>2.185440e-20</td>\n",
       "      <td>0.023716</td>\n",
       "      <td>0.013049</td>\n",
       "      <td>False</td>\n",
       "      <td>False</td>\n",
       "      <td>False</td>\n",
       "    </tr>\n",
       "  </tbody>\n",
       "</table>\n",
       "<p>21954 rows × 6 columns</p>\n",
       "</div>"
      ],
      "text/plain": [
       "                    cxds_score  bcds_score  hybrid_score  cxds_call  \\\n",
       "AGAGCGAAGATCTGCT  3.019673e+04    0.708056      1.247998       True   \n",
       "ACATCAGTCTGACCTC  2.163955e+04    0.703681      1.092262       True   \n",
       "TTCTCCTGTCCTGCTT  6.827146e+03    0.507470      0.629397       True   \n",
       "GAAACTCTCATGTAGC  1.181685e+04    0.820639      1.038479       True   \n",
       "CAGTCCTGTCTAGCCG  1.873341e+04    0.562479      0.896213       True   \n",
       "...                        ...         ...           ...        ...   \n",
       "TTTATGCTCTTGTACT  6.434841e-17    0.030720      0.020226      False   \n",
       "ATAACGCCAAGCTGGA  3.115676e-23    0.030016      0.019504      False   \n",
       "ATTACTCAGTGGACGT  1.707922e-31    0.019958      0.009199      False   \n",
       "CGTGTCTCAAGCGTAG  2.550374e-28    0.044342      0.034183      False   \n",
       "CCGGGATCAATCGGTT  2.185440e-20    0.023716      0.013049      False   \n",
       "\n",
       "                  bcds_call  hybrid_call  \n",
       "AGAGCGAAGATCTGCT       True         True  \n",
       "ACATCAGTCTGACCTC       True         True  \n",
       "TTCTCCTGTCCTGCTT      False         True  \n",
       "GAAACTCTCATGTAGC       True         True  \n",
       "CAGTCCTGTCTAGCCG       True         True  \n",
       "...                     ...          ...  \n",
       "TTTATGCTCTTGTACT      False        False  \n",
       "ATAACGCCAAGCTGGA      False        False  \n",
       "ATTACTCAGTGGACGT      False        False  \n",
       "CGTGTCTCAAGCGTAG      False        False  \n",
       "CCGGGATCAATCGGTT      False        False  \n",
       "\n",
       "[21954 rows x 6 columns]"
      ]
     },
     "execution_count": 9,
     "metadata": {},
     "output_type": "execute_result"
    }
   ],
   "source": [
    "df_analysis = pd.read_csv('../test_data/sce_analysis.csv', index_col=0)\n",
    "df_analysis"
   ]
  },
  {
   "cell_type": "code",
   "execution_count": 24,
   "metadata": {},
   "outputs": [
    {
     "data": {
      "text/html": [
       "<div>\n",
       "<style scoped>\n",
       "    .dataframe tbody tr th:only-of-type {\n",
       "        vertical-align: middle;\n",
       "    }\n",
       "\n",
       "    .dataframe tbody tr th {\n",
       "        vertical-align: top;\n",
       "    }\n",
       "\n",
       "    .dataframe thead th {\n",
       "        text-align: right;\n",
       "    }\n",
       "</style>\n",
       "<table border=\"1\" class=\"dataframe\">\n",
       "  <thead>\n",
       "    <tr style=\"text-align: right;\">\n",
       "      <th></th>\n",
       "      <th>cxds_score</th>\n",
       "      <th>bcds_score</th>\n",
       "      <th>hybrid_score</th>\n",
       "      <th>cxds_call</th>\n",
       "      <th>bcds_call</th>\n",
       "      <th>hybrid_call</th>\n",
       "    </tr>\n",
       "  </thead>\n",
       "  <tbody>\n",
       "    <tr>\n",
       "      <th>TCTGAGACATCACGTA</th>\n",
       "      <td>1.459035e+04</td>\n",
       "      <td>0.547812</td>\n",
       "      <td>0.807952</td>\n",
       "      <td>True</td>\n",
       "      <td>False</td>\n",
       "      <td>True</td>\n",
       "    </tr>\n",
       "    <tr>\n",
       "      <th>CCTCAGTGTAGTAGTA</th>\n",
       "      <td>3.297346e+04</td>\n",
       "      <td>0.878325</td>\n",
       "      <td>1.471543</td>\n",
       "      <td>True</td>\n",
       "      <td>True</td>\n",
       "      <td>True</td>\n",
       "    </tr>\n",
       "    <tr>\n",
       "      <th>TGGCCAGGTATCTGCA</th>\n",
       "      <td>2.372578e+04</td>\n",
       "      <td>0.777537</td>\n",
       "      <td>1.204812</td>\n",
       "      <td>True</td>\n",
       "      <td>True</td>\n",
       "      <td>True</td>\n",
       "    </tr>\n",
       "    <tr>\n",
       "      <th>CCTTCCCCATCGATGT</th>\n",
       "      <td>1.966153e+04</td>\n",
       "      <td>0.579873</td>\n",
       "      <td>0.930440</td>\n",
       "      <td>True</td>\n",
       "      <td>True</td>\n",
       "      <td>True</td>\n",
       "    </tr>\n",
       "    <tr>\n",
       "      <th>GCGGGTTGTCCATGAT</th>\n",
       "      <td>6.532295e+03</td>\n",
       "      <td>0.348443</td>\n",
       "      <td>0.461240</td>\n",
       "      <td>True</td>\n",
       "      <td>False</td>\n",
       "      <td>False</td>\n",
       "    </tr>\n",
       "    <tr>\n",
       "      <th>...</th>\n",
       "      <td>...</td>\n",
       "      <td>...</td>\n",
       "      <td>...</td>\n",
       "      <td>...</td>\n",
       "      <td>...</td>\n",
       "      <td>...</td>\n",
       "    </tr>\n",
       "    <tr>\n",
       "      <th>CTTGGCTTCAAGAAGT</th>\n",
       "      <td>1.056291e+01</td>\n",
       "      <td>0.067179</td>\n",
       "      <td>0.057770</td>\n",
       "      <td>False</td>\n",
       "      <td>False</td>\n",
       "      <td>False</td>\n",
       "    </tr>\n",
       "    <tr>\n",
       "      <th>CGCTTCACAGTCGTGC</th>\n",
       "      <td>1.620126e+03</td>\n",
       "      <td>0.142789</td>\n",
       "      <td>0.163693</td>\n",
       "      <td>False</td>\n",
       "      <td>False</td>\n",
       "      <td>False</td>\n",
       "    </tr>\n",
       "    <tr>\n",
       "      <th>CGTAGGCCACTGTCGG</th>\n",
       "      <td>2.611975e+02</td>\n",
       "      <td>0.081878</td>\n",
       "      <td>0.077261</td>\n",
       "      <td>False</td>\n",
       "      <td>False</td>\n",
       "      <td>False</td>\n",
       "    </tr>\n",
       "    <tr>\n",
       "      <th>TCTTCGGTCTTCTGGC</th>\n",
       "      <td>5.283252e+01</td>\n",
       "      <td>0.350841</td>\n",
       "      <td>0.349168</td>\n",
       "      <td>False</td>\n",
       "      <td>False</td>\n",
       "      <td>False</td>\n",
       "    </tr>\n",
       "    <tr>\n",
       "      <th>GTGCAGCAGGCTCATT</th>\n",
       "      <td>5.003955e-22</td>\n",
       "      <td>0.056361</td>\n",
       "      <td>0.046498</td>\n",
       "      <td>False</td>\n",
       "      <td>False</td>\n",
       "      <td>False</td>\n",
       "    </tr>\n",
       "  </tbody>\n",
       "</table>\n",
       "<p>144 rows × 6 columns</p>\n",
       "</div>"
      ],
      "text/plain": [
       "                    cxds_score  bcds_score  hybrid_score  cxds_call  \\\n",
       "TCTGAGACATCACGTA  1.459035e+04    0.547812      0.807952       True   \n",
       "CCTCAGTGTAGTAGTA  3.297346e+04    0.878325      1.471543       True   \n",
       "TGGCCAGGTATCTGCA  2.372578e+04    0.777537      1.204812       True   \n",
       "CCTTCCCCATCGATGT  1.966153e+04    0.579873      0.930440       True   \n",
       "GCGGGTTGTCCATGAT  6.532295e+03    0.348443      0.461240       True   \n",
       "...                        ...         ...           ...        ...   \n",
       "CTTGGCTTCAAGAAGT  1.056291e+01    0.067179      0.057770      False   \n",
       "CGCTTCACAGTCGTGC  1.620126e+03    0.142789      0.163693      False   \n",
       "CGTAGGCCACTGTCGG  2.611975e+02    0.081878      0.077261      False   \n",
       "TCTTCGGTCTTCTGGC  5.283252e+01    0.350841      0.349168      False   \n",
       "GTGCAGCAGGCTCATT  5.003955e-22    0.056361      0.046498      False   \n",
       "\n",
       "                  bcds_call  hybrid_call  \n",
       "TCTGAGACATCACGTA      False         True  \n",
       "CCTCAGTGTAGTAGTA       True         True  \n",
       "TGGCCAGGTATCTGCA       True         True  \n",
       "CCTTCCCCATCGATGT       True         True  \n",
       "GCGGGTTGTCCATGAT      False        False  \n",
       "...                     ...          ...  \n",
       "CTTGGCTTCAAGAAGT      False        False  \n",
       "CGCTTCACAGTCGTGC      False        False  \n",
       "CGTAGGCCACTGTCGG      False        False  \n",
       "TCTTCGGTCTTCTGGC      False        False  \n",
       "GTGCAGCAGGCTCATT      False        False  \n",
       "\n",
       "[144 rows x 6 columns]"
      ]
     },
     "execution_count": 24,
     "metadata": {},
     "output_type": "execute_result"
    }
   ],
   "source": [
    "doublet_df = df_analysis[df_analysis.index.isin(doublets)]\n",
    "\n",
    "doublet_df"
   ]
  },
  {
   "cell_type": "code",
   "execution_count": 27,
   "metadata": {},
   "outputs": [
    {
     "data": {
      "text/plain": [
       "Index(['cxds_score', 'bcds_score', 'hybrid_score', 'cxds_call', 'bcds_call',\n",
       "       'hybrid_call'],\n",
       "      dtype='object')"
      ]
     },
     "execution_count": 27,
     "metadata": {},
     "output_type": "execute_result"
    }
   ],
   "source": [
    "doublet_df.columns"
   ]
  },
  {
   "cell_type": "code",
   "execution_count": 32,
   "metadata": {},
   "outputs": [
    {
     "data": {
      "text/plain": [
       "hybrid_call\n",
       "True     83\n",
       "False    61\n",
       "Name: count, dtype: int64"
      ]
     },
     "execution_count": 32,
     "metadata": {},
     "output_type": "execute_result"
    }
   ],
   "source": [
    "doublet_df['hybrid_call'].value_counts()"
   ]
  },
  {
   "cell_type": "code",
   "execution_count": 29,
   "metadata": {},
   "outputs": [
    {
     "data": {
      "image/png": "[encoded data removed]",
      "text/plain": [
       "<Figure size 640x480 with 1 Axes>"
      ]
     },
     "metadata": {},
     "output_type": "display_data"
    }
   ],
   "source": [
    "boxplot = doublet_df.boxplot(\n",
    "    column=['cxds_score'], \n",
    "    by=['cxds_call'],\n",
    ")"
   ]
  },
  {
   "cell_type": "code",
   "execution_count": 4,
   "metadata": {},
   "outputs": [
    {
     "data": {
      "text/html": [
       "<div>\n",
       "<style scoped>\n",
       "    .dataframe tbody tr th:only-of-type {\n",
       "        vertical-align: middle;\n",
       "    }\n",
       "\n",
       "    .dataframe tbody tr th {\n",
       "        vertical-align: top;\n",
       "    }\n",
       "\n",
       "    .dataframe thead th {\n",
       "        text-align: right;\n",
       "    }\n",
       "</style>\n",
       "<table border=\"1\" class=\"dataframe\">\n",
       "  <thead>\n",
       "    <tr style=\"text-align: right;\">\n",
       "      <th></th>\n",
       "      <th>UMI</th>\n",
       "      <th>doublet</th>\n",
       "      <th>doublet_detected</th>\n",
       "      <th>doublet_score</th>\n",
       "    </tr>\n",
       "  </thead>\n",
       "  <tbody>\n",
       "    <tr>\n",
       "      <th>0</th>\n",
       "      <td>GCTCTGTCAATGGATA</td>\n",
       "      <td>1</td>\n",
       "      <td>1.0</td>\n",
       "      <td>2.723823e+02</td>\n",
       "    </tr>\n",
       "    <tr>\n",
       "      <th>1</th>\n",
       "      <td>GATGAGGGTACGAAAT</td>\n",
       "      <td>0</td>\n",
       "      <td>1.0</td>\n",
       "      <td>3.724646e+02</td>\n",
       "    </tr>\n",
       "    <tr>\n",
       "      <th>2</th>\n",
       "      <td>AGGCCACGTACAGCAG</td>\n",
       "      <td>0</td>\n",
       "      <td>0.0</td>\n",
       "      <td>6.849729e-05</td>\n",
       "    </tr>\n",
       "    <tr>\n",
       "      <th>3</th>\n",
       "      <td>ACGCCGAGTCACACGC</td>\n",
       "      <td>0</td>\n",
       "      <td>0.0</td>\n",
       "      <td>4.106492e-23</td>\n",
       "    </tr>\n",
       "    <tr>\n",
       "      <th>4</th>\n",
       "      <td>TCTTCGGAGGCTAGCA</td>\n",
       "      <td>0</td>\n",
       "      <td>0.0</td>\n",
       "      <td>1.086942e-49</td>\n",
       "    </tr>\n",
       "    <tr>\n",
       "      <th>...</th>\n",
       "      <td>...</td>\n",
       "      <td>...</td>\n",
       "      <td>...</td>\n",
       "      <td>...</td>\n",
       "    </tr>\n",
       "    <tr>\n",
       "      <th>995</th>\n",
       "      <td>ACTGCTCCACTCGACG</td>\n",
       "      <td>0</td>\n",
       "      <td>0.0</td>\n",
       "      <td>3.052982e-02</td>\n",
       "    </tr>\n",
       "    <tr>\n",
       "      <th>996</th>\n",
       "      <td>TGGTTAGGTAAACGCG</td>\n",
       "      <td>0</td>\n",
       "      <td>1.0</td>\n",
       "      <td>1.400135e+02</td>\n",
       "    </tr>\n",
       "    <tr>\n",
       "      <th>997</th>\n",
       "      <td>TTCTCAATCAGTACGT</td>\n",
       "      <td>1</td>\n",
       "      <td>1.0</td>\n",
       "      <td>3.684269e+02</td>\n",
       "    </tr>\n",
       "    <tr>\n",
       "      <th>998</th>\n",
       "      <td>TGAGCCGGTCTCTTAT</td>\n",
       "      <td>0</td>\n",
       "      <td>0.0</td>\n",
       "      <td>1.967257e-04</td>\n",
       "    </tr>\n",
       "    <tr>\n",
       "      <th>999</th>\n",
       "      <td>AGGTCCGTCCATGCTC</td>\n",
       "      <td>0</td>\n",
       "      <td>0.0</td>\n",
       "      <td>2.653425e-34</td>\n",
       "    </tr>\n",
       "  </tbody>\n",
       "</table>\n",
       "<p>1000 rows × 4 columns</p>\n",
       "</div>"
      ],
      "text/plain": [
       "                  UMI  doublet  doublet_detected  doublet_score\n",
       "0    GCTCTGTCAATGGATA        1               1.0   2.723823e+02\n",
       "1    GATGAGGGTACGAAAT        0               1.0   3.724646e+02\n",
       "2    AGGCCACGTACAGCAG        0               0.0   6.849729e-05\n",
       "3    ACGCCGAGTCACACGC        0               0.0   4.106492e-23\n",
       "4    TCTTCGGAGGCTAGCA        0               0.0   1.086942e-49\n",
       "..                ...      ...               ...            ...\n",
       "995  ACTGCTCCACTCGACG        0               0.0   3.052982e-02\n",
       "996  TGGTTAGGTAAACGCG        0               1.0   1.400135e+02\n",
       "997  TTCTCAATCAGTACGT        1               1.0   3.684269e+02\n",
       "998  TGAGCCGGTCTCTTAT        0               0.0   1.967257e-04\n",
       "999  AGGTCCGTCCATGCTC        0               0.0   2.653425e-34\n",
       "\n",
       "[1000 rows x 4 columns]"
      ]
     },
     "execution_count": 4,
     "metadata": {},
     "output_type": "execute_result"
    }
   ],
   "source": [
    "df_train = pd.read_csv(\"../prediction/prediction5/df_train.csv\")\n",
    "df_train"
   ]
  },
  {
   "cell_type": "code",
   "execution_count": 6,
   "metadata": {},
   "outputs": [
    {
     "data": {
      "text/html": [
       "<div>\n",
       "<style scoped>\n",
       "    .dataframe tbody tr th:only-of-type {\n",
       "        vertical-align: middle;\n",
       "    }\n",
       "\n",
       "    .dataframe tbody tr th {\n",
       "        vertical-align: top;\n",
       "    }\n",
       "\n",
       "    .dataframe thead th {\n",
       "        text-align: right;\n",
       "    }\n",
       "</style>\n",
       "<table border=\"1\" class=\"dataframe\">\n",
       "  <thead>\n",
       "    <tr style=\"text-align: right;\">\n",
       "      <th></th>\n",
       "      <th>UMI</th>\n",
       "      <th>doublet</th>\n",
       "      <th>doublet_detected</th>\n",
       "      <th>doublet_score</th>\n",
       "      <th>assign</th>\n",
       "    </tr>\n",
       "  </thead>\n",
       "  <tbody>\n",
       "    <tr>\n",
       "      <th>0</th>\n",
       "      <td>GCTCTGTCAATGGATA</td>\n",
       "      <td>1</td>\n",
       "      <td>1.0</td>\n",
       "      <td>2.723823e+02</td>\n",
       "      <td>doublet</td>\n",
       "    </tr>\n",
       "    <tr>\n",
       "      <th>1</th>\n",
       "      <td>GATGAGGGTACGAAAT</td>\n",
       "      <td>0</td>\n",
       "      <td>1.0</td>\n",
       "      <td>3.724646e+02</td>\n",
       "      <td>singlet</td>\n",
       "    </tr>\n",
       "    <tr>\n",
       "      <th>2</th>\n",
       "      <td>AGGCCACGTACAGCAG</td>\n",
       "      <td>0</td>\n",
       "      <td>0.0</td>\n",
       "      <td>6.849729e-05</td>\n",
       "      <td>singlet</td>\n",
       "    </tr>\n",
       "    <tr>\n",
       "      <th>3</th>\n",
       "      <td>ACGCCGAGTCACACGC</td>\n",
       "      <td>0</td>\n",
       "      <td>0.0</td>\n",
       "      <td>4.106492e-23</td>\n",
       "      <td>singlet</td>\n",
       "    </tr>\n",
       "    <tr>\n",
       "      <th>4</th>\n",
       "      <td>TCTTCGGAGGCTAGCA</td>\n",
       "      <td>0</td>\n",
       "      <td>0.0</td>\n",
       "      <td>1.086942e-49</td>\n",
       "      <td>singlet</td>\n",
       "    </tr>\n",
       "    <tr>\n",
       "      <th>...</th>\n",
       "      <td>...</td>\n",
       "      <td>...</td>\n",
       "      <td>...</td>\n",
       "      <td>...</td>\n",
       "      <td>...</td>\n",
       "    </tr>\n",
       "    <tr>\n",
       "      <th>995</th>\n",
       "      <td>ACTGCTCCACTCGACG</td>\n",
       "      <td>0</td>\n",
       "      <td>0.0</td>\n",
       "      <td>3.052982e-02</td>\n",
       "      <td>singlet</td>\n",
       "    </tr>\n",
       "    <tr>\n",
       "      <th>996</th>\n",
       "      <td>TGGTTAGGTAAACGCG</td>\n",
       "      <td>0</td>\n",
       "      <td>1.0</td>\n",
       "      <td>1.400135e+02</td>\n",
       "      <td>singlet</td>\n",
       "    </tr>\n",
       "    <tr>\n",
       "      <th>997</th>\n",
       "      <td>TTCTCAATCAGTACGT</td>\n",
       "      <td>1</td>\n",
       "      <td>1.0</td>\n",
       "      <td>3.684269e+02</td>\n",
       "      <td>doublet</td>\n",
       "    </tr>\n",
       "    <tr>\n",
       "      <th>998</th>\n",
       "      <td>TGAGCCGGTCTCTTAT</td>\n",
       "      <td>0</td>\n",
       "      <td>0.0</td>\n",
       "      <td>1.967257e-04</td>\n",
       "      <td>singlet</td>\n",
       "    </tr>\n",
       "    <tr>\n",
       "      <th>999</th>\n",
       "      <td>AGGTCCGTCCATGCTC</td>\n",
       "      <td>0</td>\n",
       "      <td>0.0</td>\n",
       "      <td>2.653425e-34</td>\n",
       "      <td>singlet</td>\n",
       "    </tr>\n",
       "  </tbody>\n",
       "</table>\n",
       "<p>1000 rows × 5 columns</p>\n",
       "</div>"
      ],
      "text/plain": [
       "                  UMI  doublet  doublet_detected  doublet_score   assign\n",
       "0    GCTCTGTCAATGGATA        1               1.0   2.723823e+02  doublet\n",
       "1    GATGAGGGTACGAAAT        0               1.0   3.724646e+02  singlet\n",
       "2    AGGCCACGTACAGCAG        0               0.0   6.849729e-05  singlet\n",
       "3    ACGCCGAGTCACACGC        0               0.0   4.106492e-23  singlet\n",
       "4    TCTTCGGAGGCTAGCA        0               0.0   1.086942e-49  singlet\n",
       "..                ...      ...               ...            ...      ...\n",
       "995  ACTGCTCCACTCGACG        0               0.0   3.052982e-02  singlet\n",
       "996  TGGTTAGGTAAACGCG        0               1.0   1.400135e+02  singlet\n",
       "997  TTCTCAATCAGTACGT        1               1.0   3.684269e+02  doublet\n",
       "998  TGAGCCGGTCTCTTAT        0               0.0   1.967257e-04  singlet\n",
       "999  AGGTCCGTCCATGCTC        0               0.0   2.653425e-34  singlet\n",
       "\n",
       "[1000 rows x 5 columns]"
      ]
     },
     "execution_count": 6,
     "metadata": {},
     "output_type": "execute_result"
    }
   ],
   "source": [
    "df_train['assign'] = df_train['doublet'].map(lambda x: 'doublet' if x == 1 else 'singlet')\n",
    "df_train"
   ]
  },
  {
   "cell_type": "code",
   "execution_count": 21,
   "metadata": {},
   "outputs": [
    {
     "data": {
      "text/html": [
       "<div>\n",
       "<style scoped>\n",
       "    .dataframe tbody tr th:only-of-type {\n",
       "        vertical-align: middle;\n",
       "    }\n",
       "\n",
       "    .dataframe tbody tr th {\n",
       "        vertical-align: top;\n",
       "    }\n",
       "\n",
       "    .dataframe thead th {\n",
       "        text-align: right;\n",
       "    }\n",
       "</style>\n",
       "<table border=\"1\" class=\"dataframe\">\n",
       "  <thead>\n",
       "    <tr style=\"text-align: right;\">\n",
       "      <th></th>\n",
       "      <th>UMI</th>\n",
       "      <th>doublet</th>\n",
       "      <th>doublet_detected</th>\n",
       "      <th>doublet_score</th>\n",
       "      <th>assign</th>\n",
       "      <th>assign_detected</th>\n",
       "    </tr>\n",
       "  </thead>\n",
       "  <tbody>\n",
       "    <tr>\n",
       "      <th>0</th>\n",
       "      <td>GCTCTGTCAATGGATA</td>\n",
       "      <td>1</td>\n",
       "      <td>1.0</td>\n",
       "      <td>2.723823e+02</td>\n",
       "      <td>doublet</td>\n",
       "      <td>doublet</td>\n",
       "    </tr>\n",
       "    <tr>\n",
       "      <th>1</th>\n",
       "      <td>GATGAGGGTACGAAAT</td>\n",
       "      <td>0</td>\n",
       "      <td>1.0</td>\n",
       "      <td>3.724646e+02</td>\n",
       "      <td>singlet</td>\n",
       "      <td>doublet</td>\n",
       "    </tr>\n",
       "    <tr>\n",
       "      <th>2</th>\n",
       "      <td>AGGCCACGTACAGCAG</td>\n",
       "      <td>0</td>\n",
       "      <td>0.0</td>\n",
       "      <td>6.849729e-05</td>\n",
       "      <td>singlet</td>\n",
       "      <td>singlet</td>\n",
       "    </tr>\n",
       "    <tr>\n",
       "      <th>3</th>\n",
       "      <td>ACGCCGAGTCACACGC</td>\n",
       "      <td>0</td>\n",
       "      <td>0.0</td>\n",
       "      <td>4.106492e-23</td>\n",
       "      <td>singlet</td>\n",
       "      <td>singlet</td>\n",
       "    </tr>\n",
       "    <tr>\n",
       "      <th>4</th>\n",
       "      <td>TCTTCGGAGGCTAGCA</td>\n",
       "      <td>0</td>\n",
       "      <td>0.0</td>\n",
       "      <td>1.086942e-49</td>\n",
       "      <td>singlet</td>\n",
       "      <td>singlet</td>\n",
       "    </tr>\n",
       "    <tr>\n",
       "      <th>...</th>\n",
       "      <td>...</td>\n",
       "      <td>...</td>\n",
       "      <td>...</td>\n",
       "      <td>...</td>\n",
       "      <td>...</td>\n",
       "      <td>...</td>\n",
       "    </tr>\n",
       "    <tr>\n",
       "      <th>995</th>\n",
       "      <td>ACTGCTCCACTCGACG</td>\n",
       "      <td>0</td>\n",
       "      <td>0.0</td>\n",
       "      <td>3.052982e-02</td>\n",
       "      <td>singlet</td>\n",
       "      <td>singlet</td>\n",
       "    </tr>\n",
       "    <tr>\n",
       "      <th>996</th>\n",
       "      <td>TGGTTAGGTAAACGCG</td>\n",
       "      <td>0</td>\n",
       "      <td>1.0</td>\n",
       "      <td>1.400135e+02</td>\n",
       "      <td>singlet</td>\n",
       "      <td>doublet</td>\n",
       "    </tr>\n",
       "    <tr>\n",
       "      <th>997</th>\n",
       "      <td>TTCTCAATCAGTACGT</td>\n",
       "      <td>1</td>\n",
       "      <td>1.0</td>\n",
       "      <td>3.684269e+02</td>\n",
       "      <td>doublet</td>\n",
       "      <td>doublet</td>\n",
       "    </tr>\n",
       "    <tr>\n",
       "      <th>998</th>\n",
       "      <td>TGAGCCGGTCTCTTAT</td>\n",
       "      <td>0</td>\n",
       "      <td>0.0</td>\n",
       "      <td>1.967257e-04</td>\n",
       "      <td>singlet</td>\n",
       "      <td>singlet</td>\n",
       "    </tr>\n",
       "    <tr>\n",
       "      <th>999</th>\n",
       "      <td>AGGTCCGTCCATGCTC</td>\n",
       "      <td>0</td>\n",
       "      <td>0.0</td>\n",
       "      <td>2.653425e-34</td>\n",
       "      <td>singlet</td>\n",
       "      <td>singlet</td>\n",
       "    </tr>\n",
       "  </tbody>\n",
       "</table>\n",
       "<p>1000 rows × 6 columns</p>\n",
       "</div>"
      ],
      "text/plain": [
       "                  UMI  doublet  doublet_detected  doublet_score   assign  \\\n",
       "0    GCTCTGTCAATGGATA        1               1.0   2.723823e+02  doublet   \n",
       "1    GATGAGGGTACGAAAT        0               1.0   3.724646e+02  singlet   \n",
       "2    AGGCCACGTACAGCAG        0               0.0   6.849729e-05  singlet   \n",
       "3    ACGCCGAGTCACACGC        0               0.0   4.106492e-23  singlet   \n",
       "4    TCTTCGGAGGCTAGCA        0               0.0   1.086942e-49  singlet   \n",
       "..                ...      ...               ...            ...      ...   \n",
       "995  ACTGCTCCACTCGACG        0               0.0   3.052982e-02  singlet   \n",
       "996  TGGTTAGGTAAACGCG        0               1.0   1.400135e+02  singlet   \n",
       "997  TTCTCAATCAGTACGT        1               1.0   3.684269e+02  doublet   \n",
       "998  TGAGCCGGTCTCTTAT        0               0.0   1.967257e-04  singlet   \n",
       "999  AGGTCCGTCCATGCTC        0               0.0   2.653425e-34  singlet   \n",
       "\n",
       "    assign_detected  \n",
       "0           doublet  \n",
       "1           doublet  \n",
       "2           singlet  \n",
       "3           singlet  \n",
       "4           singlet  \n",
       "..              ...  \n",
       "995         singlet  \n",
       "996         doublet  \n",
       "997         doublet  \n",
       "998         singlet  \n",
       "999         singlet  \n",
       "\n",
       "[1000 rows x 6 columns]"
      ]
     },
     "execution_count": 21,
     "metadata": {},
     "output_type": "execute_result"
    }
   ],
   "source": [
    "df_train['assign_detected'] = df_train['doublet_detected'].map(lambda x: 'doublet' if x==1 else 'singlet')\n",
    "df_train"
   ]
  },
  {
   "cell_type": "code",
   "execution_count": 20,
   "metadata": {},
   "outputs": [
    {
     "data": {
      "image/png": "[encoded data removed]",
      "text/plain": [
       "<Figure size 640x480 with 1 Axes>"
      ]
     },
     "metadata": {},
     "output_type": "display_data"
    }
   ],
   "source": [
    "sns.boxplot(x=df_train['doublet_score'], y=df_train['assign'])\n",
    "plt.xscale('log')"
   ]
  },
  {
   "cell_type": "code",
   "execution_count": 22,
   "metadata": {},
   "outputs": [
    {
     "data": {
      "image/png": "[encoded data removed]",
      "text/plain": [
       "<Figure size 640x480 with 1 Axes>"
      ]
     },
     "metadata": {},
     "output_type": "display_data"
    }
   ],
   "source": [
    "sns.boxplot(x=df_train['doublet_score'], y=df_train['assign_detected'])\n",
    "plt.xscale('log')"
   ]
  },
  {
   "cell_type": "code",
   "execution_count": 23,
   "metadata": {},
   "outputs": [
    {
     "data": {
      "text/plain": [
       "assign_detected\n",
       "singlet    802\n",
       "doublet     53\n",
       "Name: count, dtype: int64"
      ]
     },
     "execution_count": 23,
     "metadata": {},
     "output_type": "execute_result"
    }
   ],
   "source": [
    "df_train[df_train['assign']=='singlet']['assign_detected'].value_counts()"
   ]
  },
  {
   "cell_type": "code",
   "execution_count": 24,
   "metadata": {},
   "outputs": [
    {
     "data": {
      "text/plain": [
       "assign_detected\n",
       "singlet    73\n",
       "doublet    72\n",
       "Name: count, dtype: int64"
      ]
     },
     "execution_count": 24,
     "metadata": {},
     "output_type": "execute_result"
    }
   ],
   "source": [
    "df_train[df_train['assign']=='doublet']['assign_detected'].value_counts()"
   ]
  },
  {
   "cell_type": "code",
   "execution_count": 25,
   "metadata": {},
   "outputs": [
    {
     "data": {
      "text/plain": [
       "count    8.550000e+02\n",
       "mean     1.687934e+01\n",
       "std      6.883730e+01\n",
       "min      8.827736e-61\n",
       "25%      7.358281e-21\n",
       "50%      1.299355e-07\n",
       "75%      1.435105e-01\n",
       "max      6.524328e+02\n",
       "Name: doublet_score, dtype: float64"
      ]
     },
     "execution_count": 25,
     "metadata": {},
     "output_type": "execute_result"
    }
   ],
   "source": [
    "df_train[df_train['assign']=='singlet']['doublet_score'].describe()"
   ]
  },
  {
   "cell_type": "code",
   "execution_count": 28,
   "metadata": {},
   "outputs": [
    {
     "data": {
      "text/plain": [
       "doublet_score\n",
       "1.086942e-49    29\n",
       "2.103197e-38    26\n",
       "3.759623e-19    15\n",
       "3.835109e+01    15\n",
       "4.543993e+01    13\n",
       "                ..\n",
       "5.115720e-05     1\n",
       "3.625417e+02     1\n",
       "7.626204e+01     1\n",
       "9.686024e-38     1\n",
       "2.653425e-34     1\n",
       "Name: count, Length: 629, dtype: int64"
      ]
     },
     "execution_count": 28,
     "metadata": {},
     "output_type": "execute_result"
    }
   ],
   "source": [
    "df_train[df_train['assign']=='singlet']['doublet_score'].value_counts()"
   ]
  },
  {
   "cell_type": "code",
   "execution_count": null,
   "metadata": {},
   "outputs": [],
   "source": []
  },
  {
   "cell_type": "code",
   "execution_count": 35,
   "metadata": {},
   "outputs": [
    {
     "data": {
      "image/png": "[encoded data removed]",
      "text/plain": [
       "<Figure size 640x480 with 1 Axes>"
      ]
     },
     "metadata": {},
     "output_type": "display_data"
    }
   ],
   "source": [
    "import numpy as np\n",
    "import matplotlib.pyplot as plt\n",
    "\n",
    "#plt.style.use('bmh')\n",
    "\n",
    "fig, ax = plt.subplots()\n",
    "\n",
    "ax.hist(df_train[df_train['assign']=='singlet']['doublet_score'], \n",
    "        histtype='bar', alpha=0.8)\n",
    "ax.hist(df_train[df_train['assign']=='doublet']['doublet_score'], \n",
    "        histtype='bar', alpha=0.8)\n",
    "\n",
    "ax.legend(['singlet', 'doublet'])\n",
    "plt.xscale('log')\n",
    "\n",
    "plt.show()"
   ]
  },
  {
   "cell_type": "code",
   "execution_count": 38,
   "metadata": {},
   "outputs": [
    {
     "data": {
      "text/plain": [
       "array([ 3305,  7433,  9917, ...,  6464, 16994, 13063])"
      ]
     },
     "execution_count": 38,
     "metadata": {},
     "output_type": "execute_result"
    }
   ],
   "source": [
    "num_synth = int(21000*0.15)\n",
    "choices = np.random.choice(21000, size=(num_synth, 2), replace=False)\n",
    "parents = [list(p) for p in choices]\n",
    "\n",
    "choices[:, 0]"
   ]
  },
  {
   "cell_type": "code",
   "execution_count": null,
   "metadata": {},
   "outputs": [],
   "source": []
  }
 ],
 "metadata": {
  "kernelspec": {
   "display_name": "biomed",
   "language": "python",
   "name": "python3"
  },
  "language_info": {
   "codemirror_mode": {
    "name": "ipython",
    "version": 3
   },
   "file_extension": ".py",
   "mimetype": "text/x-python",
   "name": "python",
   "nbconvert_exporter": "python",
   "pygments_lexer": "ipython3",
   "version": "3.10.12"
  },
  "orig_nbformat": 4
 },
 "nbformat": 4,
 "nbformat_minor": 2
}
