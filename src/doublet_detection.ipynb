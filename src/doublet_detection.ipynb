{
 "cells": [
  {
   "cell_type": "markdown",
   "metadata": {},
   "source": [
    "#### Doublet Detection \n",
    "\n",
    "This notebook uses [Doublet Detection](https://github.com/JonathanShor/DoubletDetection) to predict doublets."
   ]
  },
  {
   "cell_type": "code",
   "execution_count": 1,
   "metadata": {},
   "outputs": [],
   "source": [
    "import numpy as np\n",
    "import pandas as pd\n",
    "import doubletdetection\n",
    "import scanpy as sc\n",
    "import matplotlib.pyplot as plt"
   ]
  },
  {
   "cell_type": "code",
   "execution_count": 2,
   "metadata": {},
   "outputs": [
    {
     "data": {
      "text/html": [
       "<div>\n",
       "<style scoped>\n",
       "    .dataframe tbody tr th:only-of-type {\n",
       "        vertical-align: middle;\n",
       "    }\n",
       "\n",
       "    .dataframe tbody tr th {\n",
       "        vertical-align: top;\n",
       "    }\n",
       "\n",
       "    .dataframe thead th {\n",
       "        text-align: right;\n",
       "    }\n",
       "</style>\n",
       "<table border=\"1\" class=\"dataframe\">\n",
       "  <thead>\n",
       "    <tr style=\"text-align: right;\">\n",
       "      <th></th>\n",
       "      <th>UMI</th>\n",
       "      <th>doublet</th>\n",
       "    </tr>\n",
       "  </thead>\n",
       "  <tbody>\n",
       "    <tr>\n",
       "      <th>0</th>\n",
       "      <td>GCTCTGTCAATGGATA</td>\n",
       "      <td>1</td>\n",
       "    </tr>\n",
       "    <tr>\n",
       "      <th>1</th>\n",
       "      <td>GATGAGGGTACGAAAT</td>\n",
       "      <td>0</td>\n",
       "    </tr>\n",
       "    <tr>\n",
       "      <th>2</th>\n",
       "      <td>AGGCCACGTACAGCAG</td>\n",
       "      <td>0</td>\n",
       "    </tr>\n",
       "    <tr>\n",
       "      <th>3</th>\n",
       "      <td>ACGCCGAGTCACACGC</td>\n",
       "      <td>0</td>\n",
       "    </tr>\n",
       "    <tr>\n",
       "      <th>4</th>\n",
       "      <td>TCTTCGGAGGCTAGCA</td>\n",
       "      <td>0</td>\n",
       "    </tr>\n",
       "    <tr>\n",
       "      <th>...</th>\n",
       "      <td>...</td>\n",
       "      <td>...</td>\n",
       "    </tr>\n",
       "    <tr>\n",
       "      <th>995</th>\n",
       "      <td>ACTGCTCCACTCGACG</td>\n",
       "      <td>0</td>\n",
       "    </tr>\n",
       "    <tr>\n",
       "      <th>996</th>\n",
       "      <td>TGGTTAGGTAAACGCG</td>\n",
       "      <td>0</td>\n",
       "    </tr>\n",
       "    <tr>\n",
       "      <th>997</th>\n",
       "      <td>TTCTCAATCAGTACGT</td>\n",
       "      <td>1</td>\n",
       "    </tr>\n",
       "    <tr>\n",
       "      <th>998</th>\n",
       "      <td>TGAGCCGGTCTCTTAT</td>\n",
       "      <td>0</td>\n",
       "    </tr>\n",
       "    <tr>\n",
       "      <th>999</th>\n",
       "      <td>AGGTCCGTCCATGCTC</td>\n",
       "      <td>0</td>\n",
       "    </tr>\n",
       "  </tbody>\n",
       "</table>\n",
       "<p>1000 rows × 2 columns</p>\n",
       "</div>"
      ],
      "text/plain": [
       "                  UMI  doublet\n",
       "0    GCTCTGTCAATGGATA        1\n",
       "1    GATGAGGGTACGAAAT        0\n",
       "2    AGGCCACGTACAGCAG        0\n",
       "3    ACGCCGAGTCACACGC        0\n",
       "4    TCTTCGGAGGCTAGCA        0\n",
       "..                ...      ...\n",
       "995  ACTGCTCCACTCGACG        0\n",
       "996  TGGTTAGGTAAACGCG        0\n",
       "997  TTCTCAATCAGTACGT        1\n",
       "998  TGAGCCGGTCTCTTAT        0\n",
       "999  AGGTCCGTCCATGCTC        0\n",
       "\n",
       "[1000 rows x 2 columns]"
      ]
     },
     "execution_count": 2,
     "metadata": {},
     "output_type": "execute_result"
    }
   ],
   "source": [
    "# Getting train data\n",
    "\n",
    "df_train = pd.read_csv(\"../train/training.csv\", header=None)\n",
    "df_train.columns = ['UMI', 'doublet']\n",
    "df_train"
   ]
  },
  {
   "cell_type": "code",
   "execution_count": 3,
   "metadata": {},
   "outputs": [
    {
     "data": {
      "text/plain": [
       "doublet\n",
       "0    855\n",
       "1    145\n",
       "Name: count, dtype: int64"
      ]
     },
     "execution_count": 3,
     "metadata": {},
     "output_type": "execute_result"
    }
   ],
   "source": [
    "# Get the counts of doublets and singlets \n",
    "\n",
    "df_train['doublet'].value_counts()"
   ]
  },
  {
   "cell_type": "code",
   "execution_count": 4,
   "metadata": {},
   "outputs": [],
   "source": [
    "# read the test data \n",
    "\n",
    "adata = sc.read_h5ad('../test_data/sce.h5ad') "
   ]
  },
  {
   "cell_type": "code",
   "execution_count": 5,
   "metadata": {},
   "outputs": [
    {
     "name": "stdout",
     "output_type": "stream",
     "text": [
      "3183\n"
     ]
    }
   ],
   "source": [
    "# get expected doublet number\n",
    "\n",
    "expected_n = int(len(adata.obs) * (145/1000))\n",
    "\n",
    "print(expected_n)"
   ]
  },
  {
   "cell_type": "code",
   "execution_count": 6,
   "metadata": {},
   "outputs": [],
   "source": [
    "# actual expected doublet number: 2892 "
   ]
  },
  {
   "cell_type": "code",
   "execution_count": 7,
   "metadata": {},
   "outputs": [],
   "source": [
    "# referencing past threshold chart to match the expected number of doublets \n",
    "\n",
    "# file location: f\"prediction\\prediction{n}\\threshold_test.pdf\" where n is the last prediction"
   ]
  },
  {
   "cell_type": "code",
   "execution_count": 114,
   "metadata": {},
   "outputs": [],
   "source": [
    "# adjusting thresholds\n",
    "\n",
    "p_thresh = 1e-10\n",
    "voter_thresh = 0.62"
   ]
  },
  {
   "cell_type": "markdown",
   "metadata": {},
   "source": [
    "#### Prediction stage\n",
    "\n",
    "Use BoostClassifier with the adjusted threshold"
   ]
  },
  {
   "cell_type": "code",
   "execution_count": 85,
   "metadata": {},
   "outputs": [
    {
     "data": {
      "application/vnd.jupyter.widget-view+json": {
       "model_id": "83debd94b6af4d0fbb6427e5c234bb8c",
       "version_major": 2,
       "version_minor": 0
      },
      "text/plain": [
       "  0%|          | 0/30 [00:00<?, ?it/s]"
      ]
     },
     "metadata": {},
     "output_type": "display_data"
    },
    {
     "name": "stdout",
     "output_type": "stream",
     "text": [
      "Iteration   1/30\n",
      "\n",
      "Creating synthetic doublets...\n",
      "Normalizing...\n",
      "Running PCA...\n",
      "Clustering augmented data set...\n",
      "\n",
      "Found clusters [0, ... 34], with sizes: [1771, 1601, 1566, 1548, 1485, 1452, 1404, 1288, 1272, 1227, 1155, 1018, 1017, 966, 966, 955, 812, 767, 742, 740, 592, 458, 434, 339, 337, 292, 235, 200, 180, 177, 120, 118, 106, 93, 9]\n",
      "\n",
      "Iteration   2/30\n",
      "\n",
      "Creating synthetic doublets...\n",
      "Normalizing...\n",
      "Running PCA...\n",
      "Clustering augmented data set...\n",
      "\n",
      "Found clusters [0, ... 34], with sizes: [1591, 1573, 1532, 1431, 1417, 1316, 1314, 1248, 1231, 1145, 1112, 1061, 1040, 988, 981, 963, 754, 698, 679, 670, 572, 542, 512, 448, 440, 367, 346, 330, 284, 222, 205, 122, 107, 103, 98]\n",
      "\n",
      "Iteration   3/30\n",
      "\n",
      "Creating synthetic doublets...\n",
      "Normalizing...\n",
      "Running PCA...\n",
      "Clustering augmented data set...\n",
      "\n",
      "Found clusters [0, ... 36], with sizes: [1790, 1447, 1387, 1387, 1341, 1224, 1212, 1209, 1192, 1175, 1127, 1122, 1022, 1016, 994, 978, 902, 735, 697, 695, 666, 557, 552, 440, 364, 348, 328, 255, 245, 210, 205, 198, 112, 107, 100, 65, 38]\n",
      "\n",
      "Iteration   4/30\n",
      "\n",
      "Creating synthetic doublets...\n",
      "Normalizing...\n",
      "Running PCA...\n",
      "Clustering augmented data set...\n",
      "\n",
      "Found clusters [0, ... 36], with sizes: [1866, 1800, 1516, 1469, 1428, 1330, 1322, 1259, 1231, 1194, 1173, 1145, 1128, 1077, 1059, 931, 768, 687, 634, 582, 503, 476, 470, 394, 353, 349, 242, 228, 195, 131, 110, 105, 97, 88, 52, 39, 11]\n",
      "\n",
      "Iteration   5/30\n",
      "\n",
      "Creating synthetic doublets...\n",
      "Normalizing...\n",
      "Running PCA...\n",
      "Clustering augmented data set...\n",
      "\n",
      "Found clusters [0, ... 36], with sizes: [1736, 1593, 1500, 1445, 1387, 1372, 1276, 1224, 1186, 1174, 1092, 1055, 1025, 949, 842, 749, 746, 716, 695, 640, 623, 528, 520, 440, 435, 410, 407, 388, 279, 229, 187, 176, 117, 104, 87, 58, 52]\n",
      "\n",
      "Iteration   6/30\n",
      "\n",
      "Creating synthetic doublets...\n",
      "Normalizing...\n",
      "Running PCA...\n",
      "Clustering augmented data set...\n",
      "\n",
      "Found clusters [0, ... 36], with sizes: [1549, 1512, 1476, 1451, 1421, 1328, 1316, 1306, 1234, 1219, 1154, 1072, 995, 941, 913, 894, 695, 666, 647, 626, 605, 557, 542, 510, 453, 436, 419, 403, 270, 245, 188, 110, 99, 84, 52, 38, 16]\n",
      "\n",
      "Iteration   7/30\n",
      "\n",
      "Creating synthetic doublets...\n",
      "Normalizing...\n",
      "Running PCA...\n",
      "Clustering augmented data set...\n",
      "\n",
      "Found clusters [0, ... 36], with sizes: [1563, 1507, 1494, 1415, 1385, 1369, 1324, 1261, 1112, 1087, 1079, 1016, 1007, 994, 993, 879, 876, 838, 747, 701, 679, 630, 620, 459, 397, 349, 349, 272, 207, 177, 170, 138, 109, 108, 88, 28, 15]\n",
      "\n",
      "Iteration   8/30\n",
      "\n",
      "Creating synthetic doublets...\n",
      "Normalizing...\n",
      "Running PCA...\n",
      "Clustering augmented data set...\n",
      "\n",
      "Found clusters [0, ... 35], with sizes: [1637, 1570, 1554, 1492, 1461, 1241, 1181, 1147, 1146, 1095, 1045, 1025, 1015, 931, 930, 797, 780, 749, 744, 622, 611, 587, 560, 469, 457, 451, 418, 379, 377, 242, 180, 176, 111, 100, 96, 66]\n",
      "\n",
      "Iteration   9/30\n",
      "\n",
      "Creating synthetic doublets...\n",
      "Normalizing...\n",
      "Running PCA...\n",
      "Clustering augmented data set...\n",
      "\n",
      "Found clusters [0, ... 35], with sizes: [1616, 1467, 1426, 1360, 1352, 1275, 1253, 1171, 1151, 1134, 1098, 1094, 1074, 1032, 1018, 925, 809, 803, 793, 761, 717, 701, 560, 524, 467, 462, 313, 180, 173, 156, 114, 106, 100, 90, 89, 78]\n",
      "\n",
      "Iteration  10/30\n",
      "\n",
      "Creating synthetic doublets...\n",
      "Normalizing...\n",
      "Running PCA...\n",
      "Clustering augmented data set...\n",
      "\n",
      "Found clusters [0, ... 34], with sizes: [1900, 1721, 1614, 1513, 1432, 1418, 1415, 1377, 1315, 1292, 1177, 1131, 1098, 1081, 937, 912, 708, 689, 686, 547, 512, 476, 339, 335, 259, 245, 245, 202, 196, 190, 130, 114, 108, 107, 21]\n",
      "\n",
      "Iteration  11/30\n",
      "\n",
      "Creating synthetic doublets...\n",
      "Normalizing...\n",
      "Running PCA...\n",
      "Clustering augmented data set...\n",
      "\n",
      "Found clusters [0, ... 34], with sizes: [1942, 1716, 1668, 1584, 1372, 1270, 1242, 1213, 1162, 1136, 1132, 1089, 1079, 1004, 992, 988, 953, 872, 707, 655, 651, 635, 595, 533, 246, 198, 186, 152, 103, 102, 90, 75, 62, 25, 13]\n",
      "\n",
      "Iteration  12/30\n",
      "\n",
      "Creating synthetic doublets...\n",
      "Normalizing...\n",
      "Running PCA...\n",
      "Clustering augmented data set...\n",
      "\n",
      "Found clusters [0, ... 35], with sizes: [1647, 1641, 1601, 1480, 1479, 1400, 1284, 1235, 1165, 1130, 1103, 1007, 992, 924, 832, 823, 776, 747, 718, 673, 650, 588, 559, 514, 455, 390, 268, 250, 243, 203, 191, 139, 110, 98, 88, 39]\n",
      "\n",
      "Iteration  13/30\n",
      "\n",
      "Creating synthetic doublets...\n",
      "Normalizing...\n",
      "Running PCA...\n",
      "Clustering augmented data set...\n",
      "\n",
      "Found clusters [0, ... 37], with sizes: [1484, 1339, 1329, 1291, 1290, 1280, 1182, 1176, 1140, 1018, 945, 914, 862, 861, 830, 824, 814, 738, 702, 698, 674, 650, 643, 631, 622, 586, 577, 445, 397, 350, 268, 252, 224, 110, 109, 99, 54, 34]\n",
      "\n",
      "Iteration  14/30\n",
      "\n",
      "Creating synthetic doublets...\n",
      "Normalizing...\n",
      "Running PCA...\n",
      "Clustering augmented data set...\n",
      "\n",
      "Found clusters [0, ... 34], with sizes: [1758, 1679, 1495, 1427, 1364, 1330, 1247, 1233, 1204, 1179, 1056, 1049, 1032, 1013, 954, 924, 852, 838, 823, 622, 579, 578, 551, 521, 460, 386, 227, 209, 156, 143, 129, 119, 104, 103, 98]\n",
      "\n",
      "Iteration  15/30\n",
      "\n",
      "Creating synthetic doublets...\n",
      "Normalizing...\n",
      "Running PCA...\n",
      "Clustering augmented data set...\n",
      "\n",
      "Found clusters [0, ... 36], with sizes: [1426, 1389, 1371, 1365, 1356, 1340, 1332, 1162, 1130, 1091, 1025, 1023, 1006, 1003, 993, 970, 938, 884, 750, 732, 708, 611, 599, 521, 477, 448, 344, 267, 244, 219, 173, 146, 109, 108, 94, 74, 14]\n",
      "\n",
      "Iteration  16/30\n",
      "\n",
      "Creating synthetic doublets...\n",
      "Normalizing...\n",
      "Running PCA...\n",
      "Clustering augmented data set...\n",
      "\n",
      "Found clusters [0, ... 38], with sizes: [1549, 1499, 1412, 1342, 1292, 1276, 1182, 1179, 1096, 1076, 1075, 1041, 1005, 989, 926, 856, 824, 798, 796, 795, 755, 723, 581, 418, 383, 382, 322, 314, 280, 252, 240, 195, 118, 106, 105, 103, 70, 51, 36]\n",
      "\n",
      "Iteration  17/30\n",
      "\n",
      "Creating synthetic doublets...\n",
      "Normalizing...\n",
      "Running PCA...\n",
      "Clustering augmented data set...\n",
      "\n",
      "Found clusters [0, ... 35], with sizes: [1705, 1492, 1481, 1467, 1449, 1426, 1217, 1201, 1196, 1130, 997, 977, 892, 867, 853, 852, 793, 775, 772, 695, 691, 626, 588, 530, 447, 437, 372, 277, 265, 238, 213, 161, 107, 103, 101, 49]\n",
      "\n",
      "Iteration  18/30\n",
      "\n",
      "Creating synthetic doublets...\n",
      "Normalizing...\n",
      "Running PCA...\n",
      "Clustering augmented data set...\n",
      "\n",
      "Found clusters [0, ... 37], with sizes: [1831, 1731, 1494, 1475, 1441, 1427, 1212, 1150, 1109, 1037, 1033, 986, 965, 959, 914, 783, 758, 673, 664, 638, 638, 560, 521, 475, 472, 458, 376, 295, 284, 249, 230, 159, 114, 108, 92, 64, 37, 30]\n",
      "\n",
      "Iteration  19/30\n",
      "\n",
      "Creating synthetic doublets...\n",
      "Normalizing...\n",
      "Running PCA...\n",
      "Clustering augmented data set...\n",
      "\n",
      "Found clusters [0, ... 35], with sizes: [1989, 1688, 1603, 1516, 1416, 1414, 1376, 1231, 1212, 1171, 1135, 1080, 1072, 1018, 1007, 987, 867, 673, 651, 623, 546, 531, 462, 428, 408, 240, 234, 149, 139, 132, 118, 100, 91, 64, 54, 17]\n",
      "\n",
      "Iteration  20/30\n",
      "\n",
      "Creating synthetic doublets...\n",
      "Normalizing...\n",
      "Running PCA...\n",
      "Clustering augmented data set...\n",
      "\n",
      "Found clusters [0, ... 36], with sizes: [1781, 1468, 1428, 1388, 1349, 1285, 1247, 1221, 1214, 1116, 1105, 1017, 994, 962, 953, 875, 850, 712, 689, 683, 678, 587, 572, 488, 441, 438, 436, 274, 237, 199, 170, 145, 108, 107, 90, 87, 48]\n",
      "\n",
      "Iteration  21/30\n",
      "\n",
      "Creating synthetic doublets...\n",
      "Normalizing...\n",
      "Running PCA...\n",
      "Clustering augmented data set...\n",
      "\n",
      "Found clusters [0, ... 34], with sizes: [1767, 1557, 1493, 1444, 1427, 1384, 1354, 1193, 1144, 1115, 1054, 1042, 1038, 1036, 930, 923, 915, 866, 787, 780, 744, 639, 617, 512, 382, 332, 241, 186, 118, 98, 97, 95, 91, 23, 18]\n",
      "\n",
      "Iteration  22/30\n",
      "\n",
      "Creating synthetic doublets...\n",
      "Normalizing...\n",
      "Running PCA...\n",
      "Clustering augmented data set...\n",
      "\n",
      "Found clusters [0, ... 34], with sizes: [1569, 1566, 1509, 1486, 1425, 1408, 1301, 1284, 1160, 1145, 1095, 1088, 1073, 1069, 1068, 974, 969, 941, 865, 708, 641, 533, 468, 431, 410, 235, 232, 211, 160, 107, 105, 102, 55, 39, 10]\n",
      "\n",
      "Iteration  23/30\n",
      "\n",
      "Creating synthetic doublets...\n",
      "Normalizing...\n",
      "Running PCA...\n",
      "Clustering augmented data set...\n",
      "\n",
      "Found clusters [0, ... 34], with sizes: [1623, 1587, 1530, 1457, 1428, 1425, 1398, 1373, 1221, 1194, 1123, 1060, 992, 986, 914, 847, 841, 731, 682, 671, 542, 542, 512, 467, 426, 308, 306, 269, 218, 181, 145, 145, 108, 105, 85]\n",
      "\n",
      "Iteration  24/30\n",
      "\n",
      "Creating synthetic doublets...\n",
      "Normalizing...\n",
      "Running PCA...\n",
      "Clustering augmented data set...\n",
      "\n",
      "Found clusters [0, ... 35], with sizes: [1919, 1562, 1562, 1528, 1524, 1450, 1432, 1370, 1141, 1075, 1030, 1005, 997, 988, 936, 838, 807, 703, 697, 690, 638, 599, 550, 388, 344, 306, 288, 266, 183, 175, 107, 107, 92, 72, 69, 4]\n",
      "\n",
      "Iteration  25/30\n",
      "\n",
      "Creating synthetic doublets...\n",
      "Normalizing...\n",
      "Running PCA...\n",
      "Clustering augmented data set...\n",
      "\n",
      "Found clusters [0, ... 36], with sizes: [1866, 1699, 1442, 1372, 1348, 1275, 1206, 1157, 1141, 1060, 1044, 978, 943, 914, 859, 747, 706, 691, 685, 615, 583, 581, 539, 534, 508, 485, 466, 463, 443, 195, 186, 184, 117, 111, 103, 100, 96]\n",
      "\n",
      "Iteration  26/30\n",
      "\n",
      "Creating synthetic doublets...\n",
      "Normalizing...\n",
      "Running PCA...\n",
      "Clustering augmented data set...\n",
      "\n",
      "Found clusters [0, ... 34], with sizes: [1732, 1710, 1688, 1465, 1458, 1388, 1299, 1289, 1249, 1052, 1027, 1013, 932, 920, 898, 874, 867, 731, 692, 629, 623, 620, 579, 470, 430, 397, 329, 207, 195, 178, 165, 113, 99, 98, 26]\n",
      "\n",
      "Iteration  27/30\n",
      "\n",
      "Creating synthetic doublets...\n",
      "Normalizing...\n",
      "Running PCA...\n",
      "Clustering augmented data set...\n",
      "\n",
      "Found clusters [0, ... 38], with sizes: [1588, 1506, 1463, 1286, 1240, 1222, 1221, 1171, 1146, 1108, 1106, 1059, 1033, 926, 874, 794, 783, 782, 725, 638, 636, 635, 597, 585, 474, 451, 438, 426, 276, 259, 236, 187, 118, 115, 101, 96, 79, 35, 27]\n",
      "\n",
      "Iteration  28/30\n",
      "\n",
      "Creating synthetic doublets...\n",
      "Normalizing...\n",
      "Running PCA...\n",
      "Clustering augmented data set...\n",
      "\n",
      "Found clusters [0, ... 38], with sizes: [1655, 1498, 1480, 1442, 1436, 1257, 1159, 1144, 1072, 1037, 1035, 1027, 973, 954, 908, 877, 851, 846, 845, 679, 640, 630, 623, 592, 489, 476, 398, 289, 230, 149, 142, 118, 113, 111, 107, 54, 44, 31, 31]\n",
      "\n",
      "Iteration  29/30\n",
      "\n",
      "Creating synthetic doublets...\n",
      "Normalizing...\n",
      "Running PCA...\n",
      "Clustering augmented data set...\n",
      "\n",
      "Found clusters [0, ... 35], with sizes: [1545, 1513, 1485, 1448, 1373, 1258, 1204, 1174, 1174, 1100, 1005, 997, 991, 985, 962, 934, 913, 817, 799, 794, 723, 653, 652, 503, 457, 411, 267, 255, 231, 202, 154, 121, 109, 105, 91, 37]\n",
      "\n",
      "Iteration  30/30\n",
      "\n",
      "Creating synthetic doublets...\n",
      "Normalizing...\n",
      "Running PCA...\n",
      "Clustering augmented data set...\n",
      "\n",
      "Found clusters [0, ... 35], with sizes: [1752, 1591, 1558, 1531, 1465, 1391, 1272, 1180, 1161, 1152, 1100, 1081, 1073, 968, 890, 870, 791, 705, 654, 612, 569, 560, 538, 484, 480, 467, 346, 311, 267, 193, 117, 107, 93, 69, 30, 14]\n",
      "\n"
     ]
    }
   ],
   "source": [
    "clf = doubletdetection.BoostClassifier(\n",
    "    n_iters=30,\n",
    "    clustering_algorithm=\"louvain\",\n",
    "    standard_scaling=True,\n",
    "    verbose=False,\n",
    "    #pseudocount=0.1,\n",
    "    #n_jobs=-1,\n",
    ")\n",
    "\n",
    "clf.fit(adata.X)\n",
    "\n",
    "for thresh in range(7, 13):\n",
    "    doublets = clf.predict(p_thresh=thresh)\n",
    "    doublet_score = clf.doublet_score()\n",
    "    adata.obs[f\"doublet_{thresh}\"] = doublets\n",
    "    adata.obs[f\"doublet_score_{thresh}\"] = doublet_score"
   ]
  },
  {
   "cell_type": "code",
   "execution_count": 117,
   "metadata": {},
   "outputs": [],
   "source": [
    "# saving the doublets and doublet scores in adata\n",
    "\n",
    "adata.obs[\"doublet\"] = doublets\n",
    "adata.obs[\"doublet_score\"] = doublet_score"
   ]
  },
  {
   "cell_type": "markdown",
   "metadata": {},
   "source": [
    "#### Visualizing results"
   ]
  },
  {
   "cell_type": "code",
   "execution_count": 118,
   "metadata": {},
   "outputs": [],
   "source": [
    "# setting the prediction round count\n",
    "\n",
    "pred_count = 5"
   ]
  },
  {
   "cell_type": "code",
   "execution_count": 119,
   "metadata": {},
   "outputs": [
    {
     "name": "stdout",
     "output_type": "stream",
     "text": [
      "WARNING: adata.X seems to be already log-transformed.\n"
     ]
    },
    {
     "ename": "KeyboardInterrupt",
     "evalue": "",
     "output_type": "error",
     "traceback": [
      "\u001b[1;31m---------------------------------------------------------------------------\u001b[0m",
      "\u001b[1;31mKeyboardInterrupt\u001b[0m                         Traceback (most recent call last)",
      "Cell \u001b[1;32mIn[119], line 8\u001b[0m\n\u001b[0;32m      6\u001b[0m sc\u001b[39m.\u001b[39mtl\u001b[39m.\u001b[39mpca(adata)\n\u001b[0;32m      7\u001b[0m sc\u001b[39m.\u001b[39mpp\u001b[39m.\u001b[39mneighbors(adata)\n\u001b[1;32m----> 8\u001b[0m sc\u001b[39m.\u001b[39;49mtl\u001b[39m.\u001b[39;49mumap(adata)\n",
      "File \u001b[1;32mc:\\Users\\lunat\\miniconda3\\envs\\biomed\\lib\\site-packages\\scanpy\\tools\\_umap.py:194\u001b[0m, in \u001b[0;36mumap\u001b[1;34m(adata, min_dist, spread, n_components, maxiter, alpha, gamma, negative_sample_rate, init_pos, random_state, a, b, copy, method, neighbors_key)\u001b[0m\n\u001b[0;32m    192\u001b[0m     default_epochs \u001b[39m=\u001b[39m \u001b[39m500\u001b[39m \u001b[39mif\u001b[39;00m neighbors[\u001b[39m'\u001b[39m\u001b[39mconnectivities\u001b[39m\u001b[39m'\u001b[39m]\u001b[39m.\u001b[39mshape[\u001b[39m0\u001b[39m] \u001b[39m<\u001b[39m\u001b[39m=\u001b[39m \u001b[39m10000\u001b[39m \u001b[39melse\u001b[39;00m \u001b[39m200\u001b[39m\n\u001b[0;32m    193\u001b[0m     n_epochs \u001b[39m=\u001b[39m default_epochs \u001b[39mif\u001b[39;00m maxiter \u001b[39mis\u001b[39;00m \u001b[39mNone\u001b[39;00m \u001b[39melse\u001b[39;00m maxiter\n\u001b[1;32m--> 194\u001b[0m     X_umap \u001b[39m=\u001b[39m simplicial_set_embedding(\n\u001b[0;32m    195\u001b[0m         X,\n\u001b[0;32m    196\u001b[0m         neighbors[\u001b[39m'\u001b[39;49m\u001b[39mconnectivities\u001b[39;49m\u001b[39m'\u001b[39;49m]\u001b[39m.\u001b[39;49mtocoo(),\n\u001b[0;32m    197\u001b[0m         n_components,\n\u001b[0;32m    198\u001b[0m         alpha,\n\u001b[0;32m    199\u001b[0m         a,\n\u001b[0;32m    200\u001b[0m         b,\n\u001b[0;32m    201\u001b[0m         gamma,\n\u001b[0;32m    202\u001b[0m         negative_sample_rate,\n\u001b[0;32m    203\u001b[0m         n_epochs,\n\u001b[0;32m    204\u001b[0m         init_coords,\n\u001b[0;32m    205\u001b[0m         random_state,\n\u001b[0;32m    206\u001b[0m         neigh_params\u001b[39m.\u001b[39;49mget(\u001b[39m'\u001b[39;49m\u001b[39mmetric\u001b[39;49m\u001b[39m'\u001b[39;49m, \u001b[39m'\u001b[39;49m\u001b[39meuclidean\u001b[39;49m\u001b[39m'\u001b[39;49m),\n\u001b[0;32m    207\u001b[0m         neigh_params\u001b[39m.\u001b[39;49mget(\u001b[39m'\u001b[39;49m\u001b[39mmetric_kwds\u001b[39;49m\u001b[39m'\u001b[39;49m, {}),\n\u001b[0;32m    208\u001b[0m         verbose\u001b[39m=\u001b[39;49msettings\u001b[39m.\u001b[39;49mverbosity \u001b[39m>\u001b[39;49m \u001b[39m3\u001b[39;49m,\n\u001b[0;32m    209\u001b[0m     )\n\u001b[0;32m    210\u001b[0m \u001b[39melif\u001b[39;00m method \u001b[39m==\u001b[39m \u001b[39m'\u001b[39m\u001b[39mrapids\u001b[39m\u001b[39m'\u001b[39m:\n\u001b[0;32m    211\u001b[0m     metric \u001b[39m=\u001b[39m neigh_params\u001b[39m.\u001b[39mget(\u001b[39m'\u001b[39m\u001b[39mmetric\u001b[39m\u001b[39m'\u001b[39m, \u001b[39m'\u001b[39m\u001b[39meuclidean\u001b[39m\u001b[39m'\u001b[39m)\n",
      "File \u001b[1;32mc:\\Users\\lunat\\miniconda3\\envs\\biomed\\lib\\site-packages\\scanpy\\tools\\_umap.py:148\u001b[0m, in \u001b[0;36mumap.<locals>.simplicial_set_embedding\u001b[1;34m(*args, **kwargs)\u001b[0m\n\u001b[0;32m    145\u001b[0m \u001b[39mdef\u001b[39;00m \u001b[39msimplicial_set_embedding\u001b[39m(\u001b[39m*\u001b[39margs, \u001b[39m*\u001b[39m\u001b[39m*\u001b[39mkwargs):\n\u001b[0;32m    146\u001b[0m     \u001b[39mfrom\u001b[39;00m \u001b[39mumap\u001b[39;00m\u001b[39m.\u001b[39;00m\u001b[39mumap_\u001b[39;00m \u001b[39mimport\u001b[39;00m simplicial_set_embedding\n\u001b[1;32m--> 148\u001b[0m     X_umap, _ \u001b[39m=\u001b[39m simplicial_set_embedding(\n\u001b[0;32m    149\u001b[0m         \u001b[39m*\u001b[39margs,\n\u001b[0;32m    150\u001b[0m         densmap\u001b[39m=\u001b[39m\u001b[39mFalse\u001b[39;00m,\n\u001b[0;32m    151\u001b[0m         densmap_kwds\u001b[39m=\u001b[39m{},\n\u001b[0;32m    152\u001b[0m         output_dens\u001b[39m=\u001b[39m\u001b[39mFalse\u001b[39;00m,\n\u001b[0;32m    153\u001b[0m         \u001b[39m*\u001b[39m\u001b[39m*\u001b[39mkwargs,\n\u001b[0;32m    154\u001b[0m     )\n\u001b[0;32m    155\u001b[0m     \u001b[39mreturn\u001b[39;00m X_umap\n",
      "File \u001b[1;32mc:\\Users\\lunat\\miniconda3\\envs\\biomed\\lib\\site-packages\\umap\\umap_.py:1156\u001b[0m, in \u001b[0;36msimplicial_set_embedding\u001b[1;34m(data, graph, n_components, initial_alpha, a, b, gamma, negative_sample_rate, n_epochs, init, random_state, metric, metric_kwds, densmap, densmap_kwds, output_dens, output_metric, output_metric_kwds, euclidean_output, parallel, verbose, tqdm_kwds)\u001b[0m\n\u001b[0;32m   1149\u001b[0m embedding \u001b[39m=\u001b[39m (\n\u001b[0;32m   1150\u001b[0m     \u001b[39m10.0\u001b[39m\n\u001b[0;32m   1151\u001b[0m     \u001b[39m*\u001b[39m (embedding \u001b[39m-\u001b[39m np\u001b[39m.\u001b[39mmin(embedding, \u001b[39m0\u001b[39m))\n\u001b[0;32m   1152\u001b[0m     \u001b[39m/\u001b[39m (np\u001b[39m.\u001b[39mmax(embedding, \u001b[39m0\u001b[39m) \u001b[39m-\u001b[39m np\u001b[39m.\u001b[39mmin(embedding, \u001b[39m0\u001b[39m))\n\u001b[0;32m   1153\u001b[0m )\u001b[39m.\u001b[39mastype(np\u001b[39m.\u001b[39mfloat32, order\u001b[39m=\u001b[39m\u001b[39m\"\u001b[39m\u001b[39mC\u001b[39m\u001b[39m\"\u001b[39m)\n\u001b[0;32m   1155\u001b[0m \u001b[39mif\u001b[39;00m euclidean_output:\n\u001b[1;32m-> 1156\u001b[0m     embedding \u001b[39m=\u001b[39m optimize_layout_euclidean(\n\u001b[0;32m   1157\u001b[0m         embedding,\n\u001b[0;32m   1158\u001b[0m         embedding,\n\u001b[0;32m   1159\u001b[0m         head,\n\u001b[0;32m   1160\u001b[0m         tail,\n\u001b[0;32m   1161\u001b[0m         n_epochs,\n\u001b[0;32m   1162\u001b[0m         n_vertices,\n\u001b[0;32m   1163\u001b[0m         epochs_per_sample,\n\u001b[0;32m   1164\u001b[0m         a,\n\u001b[0;32m   1165\u001b[0m         b,\n\u001b[0;32m   1166\u001b[0m         rng_state,\n\u001b[0;32m   1167\u001b[0m         gamma,\n\u001b[0;32m   1168\u001b[0m         initial_alpha,\n\u001b[0;32m   1169\u001b[0m         negative_sample_rate,\n\u001b[0;32m   1170\u001b[0m         parallel\u001b[39m=\u001b[39;49mparallel,\n\u001b[0;32m   1171\u001b[0m         verbose\u001b[39m=\u001b[39;49mverbose,\n\u001b[0;32m   1172\u001b[0m         densmap\u001b[39m=\u001b[39;49mdensmap,\n\u001b[0;32m   1173\u001b[0m         densmap_kwds\u001b[39m=\u001b[39;49mdensmap_kwds,\n\u001b[0;32m   1174\u001b[0m         tqdm_kwds\u001b[39m=\u001b[39;49mtqdm_kwds,\n\u001b[0;32m   1175\u001b[0m         move_other\u001b[39m=\u001b[39;49m\u001b[39mTrue\u001b[39;49;00m,\n\u001b[0;32m   1176\u001b[0m     )\n\u001b[0;32m   1177\u001b[0m \u001b[39melse\u001b[39;00m:\n\u001b[0;32m   1178\u001b[0m     embedding \u001b[39m=\u001b[39m optimize_layout_generic(\n\u001b[0;32m   1179\u001b[0m         embedding,\n\u001b[0;32m   1180\u001b[0m         embedding,\n\u001b[1;32m   (...)\u001b[0m\n\u001b[0;32m   1196\u001b[0m         move_other\u001b[39m=\u001b[39m\u001b[39mTrue\u001b[39;00m,\n\u001b[0;32m   1197\u001b[0m     )\n",
      "File \u001b[1;32mc:\\Users\\lunat\\miniconda3\\envs\\biomed\\lib\\site-packages\\umap\\layouts.py:399\u001b[0m, in \u001b[0;36moptimize_layout_euclidean\u001b[1;34m(head_embedding, tail_embedding, head, tail, n_epochs, n_vertices, epochs_per_sample, a, b, rng_state, gamma, initial_alpha, negative_sample_rate, parallel, verbose, densmap, densmap_kwds, tqdm_kwds, move_other)\u001b[0m\n\u001b[0;32m    367\u001b[0m         dens_re_cov \u001b[39m=\u001b[39m \u001b[39m0\u001b[39m\n\u001b[0;32m    369\u001b[0m     optimize_fn(\n\u001b[0;32m    370\u001b[0m         head_embedding,\n\u001b[0;32m    371\u001b[0m         tail_embedding,\n\u001b[1;32m   (...)\u001b[0m\n\u001b[0;32m    396\u001b[0m         dens_mu_tot,\n\u001b[0;32m    397\u001b[0m     )\n\u001b[1;32m--> 399\u001b[0m     alpha \u001b[39m=\u001b[39m initial_alpha \u001b[39m*\u001b[39m (\u001b[39m1.0\u001b[39m \u001b[39m-\u001b[39m (\u001b[39mfloat\u001b[39;49m(n) \u001b[39m/\u001b[39m \u001b[39mfloat\u001b[39m(n_epochs)))\n\u001b[0;32m    401\u001b[0m \u001b[39mreturn\u001b[39;00m head_embedding\n",
      "\u001b[1;31mKeyboardInterrupt\u001b[0m: "
     ]
    }
   ],
   "source": [
    "# preparing for umap\n",
    "\n",
    "sc.pp.normalize_total(adata)\n",
    "sc.pp.log1p(adata)\n",
    "sc.pp.highly_variable_genes(adata)\n",
    "sc.tl.pca(adata)\n",
    "sc.pp.neighbors(adata)\n",
    "sc.tl.umap(adata)"
   ]
  },
  {
   "cell_type": "code",
   "execution_count": 89,
   "metadata": {},
   "outputs": [
    {
     "name": "stdout",
     "output_type": "stream",
     "text": [
      "WARNING: saving figure to file figures\\umapumap.pdf\n"
     ]
    },
    {
     "name": "stderr",
     "output_type": "stream",
     "text": [
      "c:\\Users\\lunat\\miniconda3\\envs\\biomed\\lib\\site-packages\\scanpy\\plotting\\_utils.py:314: UserWarning: Matplotlib is currently using agg, which is a non-GUI backend, so cannot show the figure.\n",
      "  pl.show()\n",
      "C:\\Users\\lunat\\AppData\\Local\\Temp\\ipykernel_10436\\3813664385.py:3: UserWarning: Matplotlib is currently using agg, which is a non-GUI backend, so cannot show the figure.\n",
      "  plt.show()\n"
     ]
    }
   ],
   "source": [
    "sc.pl.umap(adata, color=[\"doublet\", \"doublet_score\"], save='umap.pdf')\n",
    "\n",
    "plt.show()"
   ]
  },
  {
   "cell_type": "code",
   "execution_count": 120,
   "metadata": {},
   "outputs": [
    {
     "data": {
      "text/plain": [
       "pandas.core.frame.DataFrame"
      ]
     },
     "execution_count": 120,
     "metadata": {},
     "output_type": "execute_result"
    }
   ],
   "source": [
    "type(adata.obs)"
   ]
  },
  {
   "cell_type": "code",
   "execution_count": 105,
   "metadata": {},
   "outputs": [],
   "source": [
    "# put the observation doublet results in a new df \n",
    "\n",
    "df_detected = adata.obs"
   ]
  },
  {
   "cell_type": "code",
   "execution_count": 106,
   "metadata": {},
   "outputs": [
    {
     "data": {
      "text/html": [
       "<div>\n",
       "<style scoped>\n",
       "    .dataframe tbody tr th:only-of-type {\n",
       "        vertical-align: middle;\n",
       "    }\n",
       "\n",
       "    .dataframe tbody tr th {\n",
       "        vertical-align: top;\n",
       "    }\n",
       "\n",
       "    .dataframe thead th {\n",
       "        text-align: right;\n",
       "    }\n",
       "</style>\n",
       "<table border=\"1\" class=\"dataframe\">\n",
       "  <thead>\n",
       "    <tr style=\"text-align: right;\">\n",
       "      <th></th>\n",
       "      <th>doublet</th>\n",
       "      <th>doublet_score</th>\n",
       "    </tr>\n",
       "  </thead>\n",
       "  <tbody>\n",
       "    <tr>\n",
       "      <th>AGAGCGAAGATCTGCT</th>\n",
       "      <td>1.0</td>\n",
       "      <td>3.835109e+01</td>\n",
       "    </tr>\n",
       "    <tr>\n",
       "      <th>ACATCAGTCTGACCTC</th>\n",
       "      <td>0.0</td>\n",
       "      <td>2.356285e+01</td>\n",
       "    </tr>\n",
       "    <tr>\n",
       "      <th>TTCTCCTGTCCTGCTT</th>\n",
       "      <td>1.0</td>\n",
       "      <td>3.835109e+01</td>\n",
       "    </tr>\n",
       "    <tr>\n",
       "      <th>GAAACTCTCATGTAGC</th>\n",
       "      <td>0.0</td>\n",
       "      <td>2.356285e+01</td>\n",
       "    </tr>\n",
       "    <tr>\n",
       "      <th>CAGTCCTGTCTAGCCG</th>\n",
       "      <td>0.0</td>\n",
       "      <td>2.356285e+01</td>\n",
       "    </tr>\n",
       "    <tr>\n",
       "      <th>...</th>\n",
       "      <td>...</td>\n",
       "      <td>...</td>\n",
       "    </tr>\n",
       "    <tr>\n",
       "      <th>TTTATGCTCTTGTACT</th>\n",
       "      <td>0.0</td>\n",
       "      <td>3.713946e-46</td>\n",
       "    </tr>\n",
       "    <tr>\n",
       "      <th>ATAACGCCAAGCTGGA</th>\n",
       "      <td>0.0</td>\n",
       "      <td>2.097192e-54</td>\n",
       "    </tr>\n",
       "    <tr>\n",
       "      <th>ATTACTCAGTGGACGT</th>\n",
       "      <td>0.0</td>\n",
       "      <td>3.713946e-46</td>\n",
       "    </tr>\n",
       "    <tr>\n",
       "      <th>CGTGTCTCAAGCGTAG</th>\n",
       "      <td>0.0</td>\n",
       "      <td>1.617720e-50</td>\n",
       "    </tr>\n",
       "    <tr>\n",
       "      <th>CCGGGATCAATCGGTT</th>\n",
       "      <td>0.0</td>\n",
       "      <td>1.086942e-49</td>\n",
       "    </tr>\n",
       "  </tbody>\n",
       "</table>\n",
       "<p>21954 rows × 2 columns</p>\n",
       "</div>"
      ],
      "text/plain": [
       "                  doublet  doublet_score\n",
       "AGAGCGAAGATCTGCT      1.0   3.835109e+01\n",
       "ACATCAGTCTGACCTC      0.0   2.356285e+01\n",
       "TTCTCCTGTCCTGCTT      1.0   3.835109e+01\n",
       "GAAACTCTCATGTAGC      0.0   2.356285e+01\n",
       "CAGTCCTGTCTAGCCG      0.0   2.356285e+01\n",
       "...                   ...            ...\n",
       "TTTATGCTCTTGTACT      0.0   3.713946e-46\n",
       "ATAACGCCAAGCTGGA      0.0   2.097192e-54\n",
       "ATTACTCAGTGGACGT      0.0   3.713946e-46\n",
       "CGTGTCTCAAGCGTAG      0.0   1.617720e-50\n",
       "CCGGGATCAATCGGTT      0.0   1.086942e-49\n",
       "\n",
       "[21954 rows x 2 columns]"
      ]
     },
     "execution_count": 106,
     "metadata": {},
     "output_type": "execute_result"
    }
   ],
   "source": [
    "df_detected"
   ]
  },
  {
   "cell_type": "code",
   "execution_count": 107,
   "metadata": {},
   "outputs": [
    {
     "data": {
      "text/plain": [
       "doublet\n",
       "0.0    19210\n",
       "1.0     2744\n",
       "Name: count, dtype: int64"
      ]
     },
     "execution_count": 107,
     "metadata": {},
     "output_type": "execute_result"
    }
   ],
   "source": [
    "# check to see if the detected result matches the expected count\n",
    "\n",
    "df_detected['doublet'].value_counts()"
   ]
  },
  {
   "cell_type": "code",
   "execution_count": 94,
   "metadata": {},
   "outputs": [
    {
     "name": "stderr",
     "output_type": "stream",
     "text": [
      "C:\\Users\\lunat\\AppData\\Local\\Temp\\ipykernel_10436\\988335967.py:7: UserWarning: Matplotlib is currently using agg, which is a non-GUI backend, so cannot show the figure.\n",
      "  plt.show()\n"
     ]
    }
   ],
   "source": [
    "boxplot = df_detected.boxplot(\n",
    "    column=['doublet_score'], \n",
    "    by=['doublet'],\n",
    "    #save='../prediction/prediction1/boxplot.pdf'\n",
    ")\n",
    "\n",
    "plt.show()\n",
    "plt.savefig(f\"../prediction/prediction{pred_count}/boxplot.png\")"
   ]
  },
  {
   "cell_type": "code",
   "execution_count": 95,
   "metadata": {},
   "outputs": [
    {
     "name": "stderr",
     "output_type": "stream",
     "text": [
      "c:\\Users\\lunat\\miniconda3\\envs\\biomed\\lib\\site-packages\\scanpy\\plotting\\_utils.py:314: UserWarning: Matplotlib is currently using agg, which is a non-GUI backend, so cannot show the figure.\n",
      "  pl.show()\n"
     ]
    }
   ],
   "source": [
    "sc.pl.violin(adata, \"doublet_score\")\n",
    "plt.savefig(f\"../prediction/prediction{pred_count}/violin.png\")"
   ]
  },
  {
   "cell_type": "code",
   "execution_count": 121,
   "metadata": {},
   "outputs": [
    {
     "data": {
      "text/html": [
       "<div>\n",
       "<style scoped>\n",
       "    .dataframe tbody tr th:only-of-type {\n",
       "        vertical-align: middle;\n",
       "    }\n",
       "\n",
       "    .dataframe tbody tr th {\n",
       "        vertical-align: top;\n",
       "    }\n",
       "\n",
       "    .dataframe thead th {\n",
       "        text-align: right;\n",
       "    }\n",
       "</style>\n",
       "<table border=\"1\" class=\"dataframe\">\n",
       "  <thead>\n",
       "    <tr style=\"text-align: right;\">\n",
       "      <th></th>\n",
       "      <th>doublet</th>\n",
       "      <th>doublet_score</th>\n",
       "    </tr>\n",
       "  </thead>\n",
       "  <tbody>\n",
       "    <tr>\n",
       "      <th>AAGTCTGAGCGTCTAT</th>\n",
       "      <td>0.0</td>\n",
       "      <td>2.444479e+01</td>\n",
       "    </tr>\n",
       "    <tr>\n",
       "      <th>AGATTGCGTTTGGGCC</th>\n",
       "      <td>0.0</td>\n",
       "      <td>3.457425e+01</td>\n",
       "    </tr>\n",
       "    <tr>\n",
       "      <th>CATGACATCTATCGCC</th>\n",
       "      <td>0.0</td>\n",
       "      <td>2.356285e+01</td>\n",
       "    </tr>\n",
       "    <tr>\n",
       "      <th>GTCCTCATCCTTGGTC</th>\n",
       "      <td>1.0</td>\n",
       "      <td>3.835109e+01</td>\n",
       "    </tr>\n",
       "    <tr>\n",
       "      <th>AGGCCGTTCACATACG</th>\n",
       "      <td>0.0</td>\n",
       "      <td>2.356285e+01</td>\n",
       "    </tr>\n",
       "    <tr>\n",
       "      <th>...</th>\n",
       "      <td>...</td>\n",
       "      <td>...</td>\n",
       "    </tr>\n",
       "    <tr>\n",
       "      <th>GCTTGAACATGCCACG</th>\n",
       "      <td>0.0</td>\n",
       "      <td>1.086942e-49</td>\n",
       "    </tr>\n",
       "    <tr>\n",
       "      <th>GGTGAAGCATTTCAGG</th>\n",
       "      <td>0.0</td>\n",
       "      <td>1.086942e-49</td>\n",
       "    </tr>\n",
       "    <tr>\n",
       "      <th>TGTCCCATCCACGACG</th>\n",
       "      <td>0.0</td>\n",
       "      <td>3.713946e-46</td>\n",
       "    </tr>\n",
       "    <tr>\n",
       "      <th>GCGCAGTGTTGTGGAG</th>\n",
       "      <td>0.0</td>\n",
       "      <td>3.713946e-46</td>\n",
       "    </tr>\n",
       "    <tr>\n",
       "      <th>CTTACCGCACCAACCG</th>\n",
       "      <td>0.0</td>\n",
       "      <td>1.617714e-50</td>\n",
       "    </tr>\n",
       "  </tbody>\n",
       "</table>\n",
       "<p>855 rows × 2 columns</p>\n",
       "</div>"
      ],
      "text/plain": [
       "                  doublet  doublet_score\n",
       "AAGTCTGAGCGTCTAT      0.0   2.444479e+01\n",
       "AGATTGCGTTTGGGCC      0.0   3.457425e+01\n",
       "CATGACATCTATCGCC      0.0   2.356285e+01\n",
       "GTCCTCATCCTTGGTC      1.0   3.835109e+01\n",
       "AGGCCGTTCACATACG      0.0   2.356285e+01\n",
       "...                   ...            ...\n",
       "GCTTGAACATGCCACG      0.0   1.086942e-49\n",
       "GGTGAAGCATTTCAGG      0.0   1.086942e-49\n",
       "TGTCCCATCCACGACG      0.0   3.713946e-46\n",
       "GCGCAGTGTTGTGGAG      0.0   3.713946e-46\n",
       "CTTACCGCACCAACCG      0.0   1.617714e-50\n",
       "\n",
       "[855 rows x 2 columns]"
      ]
     },
     "execution_count": 121,
     "metadata": {},
     "output_type": "execute_result"
    }
   ],
   "source": [
    "# get a doublet-only and singlet-only df from train data\n",
    "\n",
    "doublets_UMI = df_train[df_train['doublet']==1]['UMI']\n",
    "singlets_UMI = df_train[df_train['doublet']==0]['UMI']\n",
    "\n",
    "doublet_df = df_detected[df_detected.index.isin(doublets_UMI)]\n",
    "\n",
    "singlet_df = df_detected[df_detected.index.isin(singlets_UMI)]\n",
    "singlet_df"
   ]
  },
  {
   "cell_type": "code",
   "execution_count": 122,
   "metadata": {},
   "outputs": [
    {
     "data": {
      "text/html": [
       "<div>\n",
       "<style scoped>\n",
       "    .dataframe tbody tr th:only-of-type {\n",
       "        vertical-align: middle;\n",
       "    }\n",
       "\n",
       "    .dataframe tbody tr th {\n",
       "        vertical-align: top;\n",
       "    }\n",
       "\n",
       "    .dataframe thead th {\n",
       "        text-align: right;\n",
       "    }\n",
       "</style>\n",
       "<table border=\"1\" class=\"dataframe\">\n",
       "  <thead>\n",
       "    <tr style=\"text-align: right;\">\n",
       "      <th></th>\n",
       "      <th>UMI</th>\n",
       "      <th>doublet</th>\n",
       "    </tr>\n",
       "  </thead>\n",
       "  <tbody>\n",
       "    <tr>\n",
       "      <th>0</th>\n",
       "      <td>GCTCTGTCAATGGATA</td>\n",
       "      <td>1</td>\n",
       "    </tr>\n",
       "    <tr>\n",
       "      <th>1</th>\n",
       "      <td>GATGAGGGTACGAAAT</td>\n",
       "      <td>0</td>\n",
       "    </tr>\n",
       "    <tr>\n",
       "      <th>2</th>\n",
       "      <td>AGGCCACGTACAGCAG</td>\n",
       "      <td>0</td>\n",
       "    </tr>\n",
       "    <tr>\n",
       "      <th>3</th>\n",
       "      <td>ACGCCGAGTCACACGC</td>\n",
       "      <td>0</td>\n",
       "    </tr>\n",
       "    <tr>\n",
       "      <th>4</th>\n",
       "      <td>TCTTCGGAGGCTAGCA</td>\n",
       "      <td>0</td>\n",
       "    </tr>\n",
       "    <tr>\n",
       "      <th>...</th>\n",
       "      <td>...</td>\n",
       "      <td>...</td>\n",
       "    </tr>\n",
       "    <tr>\n",
       "      <th>995</th>\n",
       "      <td>ACTGCTCCACTCGACG</td>\n",
       "      <td>0</td>\n",
       "    </tr>\n",
       "    <tr>\n",
       "      <th>996</th>\n",
       "      <td>TGGTTAGGTAAACGCG</td>\n",
       "      <td>0</td>\n",
       "    </tr>\n",
       "    <tr>\n",
       "      <th>997</th>\n",
       "      <td>TTCTCAATCAGTACGT</td>\n",
       "      <td>1</td>\n",
       "    </tr>\n",
       "    <tr>\n",
       "      <th>998</th>\n",
       "      <td>TGAGCCGGTCTCTTAT</td>\n",
       "      <td>0</td>\n",
       "    </tr>\n",
       "    <tr>\n",
       "      <th>999</th>\n",
       "      <td>AGGTCCGTCCATGCTC</td>\n",
       "      <td>0</td>\n",
       "    </tr>\n",
       "  </tbody>\n",
       "</table>\n",
       "<p>1000 rows × 2 columns</p>\n",
       "</div>"
      ],
      "text/plain": [
       "                  UMI  doublet\n",
       "0    GCTCTGTCAATGGATA        1\n",
       "1    GATGAGGGTACGAAAT        0\n",
       "2    AGGCCACGTACAGCAG        0\n",
       "3    ACGCCGAGTCACACGC        0\n",
       "4    TCTTCGGAGGCTAGCA        0\n",
       "..                ...      ...\n",
       "995  ACTGCTCCACTCGACG        0\n",
       "996  TGGTTAGGTAAACGCG        0\n",
       "997  TTCTCAATCAGTACGT        1\n",
       "998  TGAGCCGGTCTCTTAT        0\n",
       "999  AGGTCCGTCCATGCTC        0\n",
       "\n",
       "[1000 rows x 2 columns]"
      ]
     },
     "execution_count": 122,
     "metadata": {},
     "output_type": "execute_result"
    }
   ],
   "source": [
    "df_train"
   ]
  },
  {
   "cell_type": "code",
   "execution_count": 123,
   "metadata": {},
   "outputs": [
    {
     "data": {
      "text/html": [
       "<div>\n",
       "<style scoped>\n",
       "    .dataframe tbody tr th:only-of-type {\n",
       "        vertical-align: middle;\n",
       "    }\n",
       "\n",
       "    .dataframe tbody tr th {\n",
       "        vertical-align: top;\n",
       "    }\n",
       "\n",
       "    .dataframe thead th {\n",
       "        text-align: right;\n",
       "    }\n",
       "</style>\n",
       "<table border=\"1\" class=\"dataframe\">\n",
       "  <thead>\n",
       "    <tr style=\"text-align: right;\">\n",
       "      <th></th>\n",
       "      <th>index</th>\n",
       "      <th>doublet</th>\n",
       "      <th>doublet_score</th>\n",
       "    </tr>\n",
       "  </thead>\n",
       "  <tbody>\n",
       "    <tr>\n",
       "      <th>0</th>\n",
       "      <td>AGAGCGAAGATCTGCT</td>\n",
       "      <td>1.0</td>\n",
       "      <td>3.835109e+01</td>\n",
       "    </tr>\n",
       "    <tr>\n",
       "      <th>1</th>\n",
       "      <td>ACATCAGTCTGACCTC</td>\n",
       "      <td>0.0</td>\n",
       "      <td>2.356285e+01</td>\n",
       "    </tr>\n",
       "    <tr>\n",
       "      <th>2</th>\n",
       "      <td>TTCTCCTGTCCTGCTT</td>\n",
       "      <td>1.0</td>\n",
       "      <td>3.835109e+01</td>\n",
       "    </tr>\n",
       "    <tr>\n",
       "      <th>3</th>\n",
       "      <td>GAAACTCTCATGTAGC</td>\n",
       "      <td>0.0</td>\n",
       "      <td>2.356285e+01</td>\n",
       "    </tr>\n",
       "    <tr>\n",
       "      <th>4</th>\n",
       "      <td>CAGTCCTGTCTAGCCG</td>\n",
       "      <td>0.0</td>\n",
       "      <td>2.356285e+01</td>\n",
       "    </tr>\n",
       "    <tr>\n",
       "      <th>...</th>\n",
       "      <td>...</td>\n",
       "      <td>...</td>\n",
       "      <td>...</td>\n",
       "    </tr>\n",
       "    <tr>\n",
       "      <th>21949</th>\n",
       "      <td>TTTATGCTCTTGTACT</td>\n",
       "      <td>0.0</td>\n",
       "      <td>3.713946e-46</td>\n",
       "    </tr>\n",
       "    <tr>\n",
       "      <th>21950</th>\n",
       "      <td>ATAACGCCAAGCTGGA</td>\n",
       "      <td>0.0</td>\n",
       "      <td>2.097192e-54</td>\n",
       "    </tr>\n",
       "    <tr>\n",
       "      <th>21951</th>\n",
       "      <td>ATTACTCAGTGGACGT</td>\n",
       "      <td>0.0</td>\n",
       "      <td>3.713946e-46</td>\n",
       "    </tr>\n",
       "    <tr>\n",
       "      <th>21952</th>\n",
       "      <td>CGTGTCTCAAGCGTAG</td>\n",
       "      <td>0.0</td>\n",
       "      <td>1.617720e-50</td>\n",
       "    </tr>\n",
       "    <tr>\n",
       "      <th>21953</th>\n",
       "      <td>CCGGGATCAATCGGTT</td>\n",
       "      <td>0.0</td>\n",
       "      <td>1.086942e-49</td>\n",
       "    </tr>\n",
       "  </tbody>\n",
       "</table>\n",
       "<p>21954 rows × 3 columns</p>\n",
       "</div>"
      ],
      "text/plain": [
       "                  index  doublet  doublet_score\n",
       "0      AGAGCGAAGATCTGCT      1.0   3.835109e+01\n",
       "1      ACATCAGTCTGACCTC      0.0   2.356285e+01\n",
       "2      TTCTCCTGTCCTGCTT      1.0   3.835109e+01\n",
       "3      GAAACTCTCATGTAGC      0.0   2.356285e+01\n",
       "4      CAGTCCTGTCTAGCCG      0.0   2.356285e+01\n",
       "...                 ...      ...            ...\n",
       "21949  TTTATGCTCTTGTACT      0.0   3.713946e-46\n",
       "21950  ATAACGCCAAGCTGGA      0.0   2.097192e-54\n",
       "21951  ATTACTCAGTGGACGT      0.0   3.713946e-46\n",
       "21952  CGTGTCTCAAGCGTAG      0.0   1.617720e-50\n",
       "21953  CCGGGATCAATCGGTT      0.0   1.086942e-49\n",
       "\n",
       "[21954 rows x 3 columns]"
      ]
     },
     "execution_count": 123,
     "metadata": {},
     "output_type": "execute_result"
    }
   ],
   "source": [
    "df_detected = df_detected.reset_index()\n",
    "df_detected"
   ]
  },
  {
   "cell_type": "code",
   "execution_count": 125,
   "metadata": {},
   "outputs": [],
   "source": [
    "df_detected.columns = ['UMI', 'doublet_detected', 'doublet_score']"
   ]
  },
  {
   "cell_type": "code",
   "execution_count": 126,
   "metadata": {},
   "outputs": [],
   "source": [
    "df_train = df_train.merge(df_detected, on='UMI', how='left')"
   ]
  },
  {
   "cell_type": "code",
   "execution_count": 127,
   "metadata": {},
   "outputs": [
    {
     "data": {
      "text/html": [
       "<div>\n",
       "<style scoped>\n",
       "    .dataframe tbody tr th:only-of-type {\n",
       "        vertical-align: middle;\n",
       "    }\n",
       "\n",
       "    .dataframe tbody tr th {\n",
       "        vertical-align: top;\n",
       "    }\n",
       "\n",
       "    .dataframe thead th {\n",
       "        text-align: right;\n",
       "    }\n",
       "</style>\n",
       "<table border=\"1\" class=\"dataframe\">\n",
       "  <thead>\n",
       "    <tr style=\"text-align: right;\">\n",
       "      <th></th>\n",
       "      <th>UMI</th>\n",
       "      <th>doublet</th>\n",
       "      <th>doublet_detected</th>\n",
       "      <th>doublet_score</th>\n",
       "    </tr>\n",
       "  </thead>\n",
       "  <tbody>\n",
       "    <tr>\n",
       "      <th>0</th>\n",
       "      <td>GCTCTGTCAATGGATA</td>\n",
       "      <td>1</td>\n",
       "      <td>1.0</td>\n",
       "      <td>2.723823e+02</td>\n",
       "    </tr>\n",
       "    <tr>\n",
       "      <th>1</th>\n",
       "      <td>GATGAGGGTACGAAAT</td>\n",
       "      <td>0</td>\n",
       "      <td>1.0</td>\n",
       "      <td>3.724646e+02</td>\n",
       "    </tr>\n",
       "    <tr>\n",
       "      <th>2</th>\n",
       "      <td>AGGCCACGTACAGCAG</td>\n",
       "      <td>0</td>\n",
       "      <td>0.0</td>\n",
       "      <td>6.849729e-05</td>\n",
       "    </tr>\n",
       "    <tr>\n",
       "      <th>3</th>\n",
       "      <td>ACGCCGAGTCACACGC</td>\n",
       "      <td>0</td>\n",
       "      <td>0.0</td>\n",
       "      <td>4.106492e-23</td>\n",
       "    </tr>\n",
       "    <tr>\n",
       "      <th>4</th>\n",
       "      <td>TCTTCGGAGGCTAGCA</td>\n",
       "      <td>0</td>\n",
       "      <td>0.0</td>\n",
       "      <td>1.086942e-49</td>\n",
       "    </tr>\n",
       "    <tr>\n",
       "      <th>...</th>\n",
       "      <td>...</td>\n",
       "      <td>...</td>\n",
       "      <td>...</td>\n",
       "      <td>...</td>\n",
       "    </tr>\n",
       "    <tr>\n",
       "      <th>995</th>\n",
       "      <td>ACTGCTCCACTCGACG</td>\n",
       "      <td>0</td>\n",
       "      <td>0.0</td>\n",
       "      <td>3.052982e-02</td>\n",
       "    </tr>\n",
       "    <tr>\n",
       "      <th>996</th>\n",
       "      <td>TGGTTAGGTAAACGCG</td>\n",
       "      <td>0</td>\n",
       "      <td>1.0</td>\n",
       "      <td>1.400135e+02</td>\n",
       "    </tr>\n",
       "    <tr>\n",
       "      <th>997</th>\n",
       "      <td>TTCTCAATCAGTACGT</td>\n",
       "      <td>1</td>\n",
       "      <td>1.0</td>\n",
       "      <td>3.684269e+02</td>\n",
       "    </tr>\n",
       "    <tr>\n",
       "      <th>998</th>\n",
       "      <td>TGAGCCGGTCTCTTAT</td>\n",
       "      <td>0</td>\n",
       "      <td>0.0</td>\n",
       "      <td>1.967257e-04</td>\n",
       "    </tr>\n",
       "    <tr>\n",
       "      <th>999</th>\n",
       "      <td>AGGTCCGTCCATGCTC</td>\n",
       "      <td>0</td>\n",
       "      <td>0.0</td>\n",
       "      <td>2.653425e-34</td>\n",
       "    </tr>\n",
       "  </tbody>\n",
       "</table>\n",
       "<p>1000 rows × 4 columns</p>\n",
       "</div>"
      ],
      "text/plain": [
       "                  UMI  doublet  doublet_detected  doublet_score\n",
       "0    GCTCTGTCAATGGATA        1               1.0   2.723823e+02\n",
       "1    GATGAGGGTACGAAAT        0               1.0   3.724646e+02\n",
       "2    AGGCCACGTACAGCAG        0               0.0   6.849729e-05\n",
       "3    ACGCCGAGTCACACGC        0               0.0   4.106492e-23\n",
       "4    TCTTCGGAGGCTAGCA        0               0.0   1.086942e-49\n",
       "..                ...      ...               ...            ...\n",
       "995  ACTGCTCCACTCGACG        0               0.0   3.052982e-02\n",
       "996  TGGTTAGGTAAACGCG        0               1.0   1.400135e+02\n",
       "997  TTCTCAATCAGTACGT        1               1.0   3.684269e+02\n",
       "998  TGAGCCGGTCTCTTAT        0               0.0   1.967257e-04\n",
       "999  AGGTCCGTCCATGCTC        0               0.0   2.653425e-34\n",
       "\n",
       "[1000 rows x 4 columns]"
      ]
     },
     "execution_count": 127,
     "metadata": {},
     "output_type": "execute_result"
    }
   ],
   "source": [
    "df_train"
   ]
  },
  {
   "cell_type": "code",
   "execution_count": 129,
   "metadata": {},
   "outputs": [
    {
     "data": {
      "text/plain": [
       "<Axes: title={'center': 'Threshold Diagnostics'}, xlabel='doublet_score', ylabel='doublet'>"
      ]
     },
     "execution_count": 129,
     "metadata": {},
     "output_type": "execute_result"
    }
   ],
   "source": [
    "import seaborn as sns\n",
    "\n",
    "sns.boxplot(data=df_train, x=\"doublet_score\", y=\"doublet\")\n"
   ]
  },
  {
   "cell_type": "code",
   "execution_count": 133,
   "metadata": {},
   "outputs": [
    {
     "data": {
      "text/plain": [
       "count    1.450000e+02\n",
       "mean     2.041853e+02\n",
       "std      2.105833e+02\n",
       "min      3.713946e-46\n",
       "25%      8.517580e-01\n",
       "50%      7.315021e+01\n",
       "75%      3.724646e+02\n",
       "max      6.600175e+02\n",
       "Name: doublet_score, dtype: float64"
      ]
     },
     "execution_count": 133,
     "metadata": {},
     "output_type": "execute_result"
    }
   ],
   "source": [
    "doublet_df['doublet_score'].describe()"
   ]
  },
  {
   "cell_type": "code",
   "execution_count": 134,
   "metadata": {},
   "outputs": [
    {
     "data": {
      "text/plain": [
       "count    8.550000e+02\n",
       "mean     1.687934e+01\n",
       "std      6.883730e+01\n",
       "min      8.827736e-61\n",
       "25%      7.358281e-21\n",
       "50%      1.299355e-07\n",
       "75%      1.435105e-01\n",
       "max      6.524328e+02\n",
       "Name: doublet_score, dtype: float64"
      ]
     },
     "execution_count": 134,
     "metadata": {},
     "output_type": "execute_result"
    }
   ],
   "source": [
    "singlet_df['doublet_score'].describe()"
   ]
  },
  {
   "cell_type": "code",
   "execution_count": null,
   "metadata": {},
   "outputs": [],
   "source": []
  },
  {
   "cell_type": "code",
   "execution_count": null,
   "metadata": {},
   "outputs": [],
   "source": []
  },
  {
   "cell_type": "code",
   "execution_count": 130,
   "metadata": {},
   "outputs": [],
   "source": [
    "df_train.to_csv(f'../prediction/prediction{pred_count}/df_train.csv', index = False)"
   ]
  },
  {
   "cell_type": "code",
   "execution_count": 109,
   "metadata": {},
   "outputs": [
    {
     "data": {
      "text/plain": [
       "doublet\n",
       "1.0    73\n",
       "0.0    72\n",
       "Name: count, dtype: int64"
      ]
     },
     "execution_count": 109,
     "metadata": {},
     "output_type": "execute_result"
    }
   ],
   "source": [
    "doublet_df['doublet'].value_counts()"
   ]
  },
  {
   "cell_type": "code",
   "execution_count": 110,
   "metadata": {},
   "outputs": [
    {
     "data": {
      "text/plain": [
       "<Figure size 600x600 with 2 Axes>"
      ]
     },
     "execution_count": 110,
     "metadata": {},
     "output_type": "execute_result"
    }
   ],
   "source": [
    "### Figures ###\n",
    "\n",
    "doubletdetection.plot.convergence(clf, save=f'../prediction/prediction{pred_count}/convergence_test.pdf', show=False, p_thresh=1e-16, voter_thresh=0.5)\n",
    "doubletdetection.plot.threshold(clf, save=f'../prediction/prediction{pred_count}/threshold_test.pdf', show=False, p_step=6)"
   ]
  },
  {
   "cell_type": "code",
   "execution_count": 111,
   "metadata": {},
   "outputs": [],
   "source": [
    "df_detected['doublet'] = df_detected['doublet'].astype(int)"
   ]
  },
  {
   "cell_type": "code",
   "execution_count": 112,
   "metadata": {},
   "outputs": [],
   "source": [
    "df_detected['doublet'].to_csv(f'../prediction/prediction{pred_count}/prediction.csv', header=None)"
   ]
  },
  {
   "cell_type": "code",
   "execution_count": 113,
   "metadata": {},
   "outputs": [],
   "source": [
    "### Make summary of singlets and doublets and write to file ###\n",
    "summary = pd.DataFrame(df_detected['doublet'].value_counts())\n",
    "summary.index.name = 'Classification'\n",
    "summary.reset_index(inplace=True)\n",
    "summary = summary.rename({'DoubletDetection_DropletType': 'Droplet N'}, axis=1)\n",
    "\n",
    "summary.to_csv(f'../prediction/prediction{pred_count}/DoubletDetection_summary.tsv', sep = \"\\t\", index = False)"
   ]
  },
  {
   "cell_type": "code",
   "execution_count": null,
   "metadata": {},
   "outputs": [],
   "source": []
  }
 ],
 "metadata": {
  "kernelspec": {
   "display_name": "biomed",
   "language": "python",
   "name": "python3"
  },
  "language_info": {
   "codemirror_mode": {
    "name": "ipython",
    "version": 3
   },
   "file_extension": ".py",
   "mimetype": "text/x-python",
   "name": "python",
   "nbconvert_exporter": "python",
   "pygments_lexer": "ipython3",
   "version": "3.10.12"
  },
  "orig_nbformat": 4
 },
 "nbformat": 4,
 "nbformat_minor": 2
}
